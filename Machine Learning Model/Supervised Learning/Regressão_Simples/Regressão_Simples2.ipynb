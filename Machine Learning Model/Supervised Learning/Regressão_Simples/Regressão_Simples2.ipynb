{
 "cells": [
  {
   "cell_type": "code",
   "execution_count": 166,
   "metadata": {},
   "outputs": [],
   "source": [
    "import pandas as pd\n",
    "import numpy as np\n",
    "import sklearn\n",
    "import matplotlib.pyplot as plt"
   ]
  },
  {
   "cell_type": "code",
   "execution_count": 167,
   "metadata": {},
   "outputs": [],
   "source": [
    "df = pd.read_excel('REGRESSAO_SIMPLES_Housing.xlsx')"
   ]
  },
  {
   "cell_type": "code",
   "execution_count": 168,
   "metadata": {},
   "outputs": [
    {
     "data": {
      "text/html": [
       "<div>\n",
       "<style scoped>\n",
       "    .dataframe tbody tr th:only-of-type {\n",
       "        vertical-align: middle;\n",
       "    }\n",
       "\n",
       "    .dataframe tbody tr th {\n",
       "        vertical-align: top;\n",
       "    }\n",
       "\n",
       "    .dataframe thead th {\n",
       "        text-align: right;\n",
       "    }\n",
       "</style>\n",
       "<table border=\"1\" class=\"dataframe\">\n",
       "  <thead>\n",
       "    <tr style=\"text-align: right;\">\n",
       "      <th></th>\n",
       "      <th>MEDIA_QUARTOS</th>\n",
       "      <th>TX_OCUPACAO</th>\n",
       "    </tr>\n",
       "  </thead>\n",
       "  <tbody>\n",
       "    <tr>\n",
       "      <th>0</th>\n",
       "      <td>6.575</td>\n",
       "      <td>24.0</td>\n",
       "    </tr>\n",
       "    <tr>\n",
       "      <th>1</th>\n",
       "      <td>6.421</td>\n",
       "      <td>21.6</td>\n",
       "    </tr>\n",
       "    <tr>\n",
       "      <th>2</th>\n",
       "      <td>7.185</td>\n",
       "      <td>34.7</td>\n",
       "    </tr>\n",
       "    <tr>\n",
       "      <th>3</th>\n",
       "      <td>6.998</td>\n",
       "      <td>33.4</td>\n",
       "    </tr>\n",
       "    <tr>\n",
       "      <th>4</th>\n",
       "      <td>7.147</td>\n",
       "      <td>36.2</td>\n",
       "    </tr>\n",
       "  </tbody>\n",
       "</table>\n",
       "</div>"
      ],
      "text/plain": [
       "   MEDIA_QUARTOS  TX_OCUPACAO\n",
       "0          6.575         24.0\n",
       "1          6.421         21.6\n",
       "2          7.185         34.7\n",
       "3          6.998         33.4\n",
       "4          7.147         36.2"
      ]
     },
     "execution_count": 168,
     "metadata": {},
     "output_type": "execute_result"
    }
   ],
   "source": [
    "df.head()"
   ]
  },
  {
   "cell_type": "code",
   "execution_count": 169,
   "metadata": {},
   "outputs": [
    {
     "name": "stdout",
     "output_type": "stream",
     "text": [
      "<class 'pandas.core.frame.DataFrame'>\n",
      "RangeIndex: 506 entries, 0 to 505\n",
      "Data columns (total 2 columns):\n",
      " #   Column         Non-Null Count  Dtype  \n",
      "---  ------         --------------  -----  \n",
      " 0   MEDIA_QUARTOS  506 non-null    float64\n",
      " 1   TX_OCUPACAO    506 non-null    float64\n",
      "dtypes: float64(2)\n",
      "memory usage: 8.0 KB\n"
     ]
    }
   ],
   "source": [
    "df.info()"
   ]
  },
  {
   "cell_type": "code",
   "execution_count": 170,
   "metadata": {},
   "outputs": [],
   "source": [
    "X = df[['MEDIA_QUARTOS']]\n",
    "y = df['TX_OCUPACAO']"
   ]
  },
  {
   "cell_type": "code",
   "execution_count": 171,
   "metadata": {},
   "outputs": [],
   "source": [
    "from sklearn.model_selection import train_test_split\n",
    "X_train, X_test, y_train, y_test = train_test_split(X, y, test_size=0.3, random_state=42)"
   ]
  },
  {
   "cell_type": "code",
   "execution_count": 172,
   "metadata": {},
   "outputs": [
    {
     "name": "stdout",
     "output_type": "stream",
     "text": [
      "<class 'pandas.core.frame.DataFrame'>\n",
      "Index: 354 entries, 5 to 102\n",
      "Data columns (total 1 columns):\n",
      " #   Column         Non-Null Count  Dtype  \n",
      "---  ------         --------------  -----  \n",
      " 0   MEDIA_QUARTOS  354 non-null    float64\n",
      "dtypes: float64(1)\n",
      "memory usage: 5.5 KB\n"
     ]
    }
   ],
   "source": [
    "X_train.info()"
   ]
  },
  {
   "cell_type": "code",
   "execution_count": 173,
   "metadata": {},
   "outputs": [
    {
     "name": "stdout",
     "output_type": "stream",
     "text": [
      "<class 'pandas.core.frame.DataFrame'>\n",
      "Index: 152 entries, 173 to 447\n",
      "Data columns (total 1 columns):\n",
      " #   Column         Non-Null Count  Dtype  \n",
      "---  ------         --------------  -----  \n",
      " 0   MEDIA_QUARTOS  152 non-null    float64\n",
      "dtypes: float64(1)\n",
      "memory usage: 2.4 KB\n"
     ]
    }
   ],
   "source": [
    "X_test.info()"
   ]
  },
  {
   "cell_type": "code",
   "execution_count": 174,
   "metadata": {},
   "outputs": [
    {
     "name": "stdout",
     "output_type": "stream",
     "text": [
      "<class 'pandas.core.series.Series'>\n",
      "Index: 152 entries, 173 to 447\n",
      "Series name: TX_OCUPACAO\n",
      "Non-Null Count  Dtype  \n",
      "--------------  -----  \n",
      "152 non-null    float64\n",
      "dtypes: float64(1)\n",
      "memory usage: 2.4 KB\n"
     ]
    }
   ],
   "source": [
    "y_test.info()"
   ]
  },
  {
   "cell_type": "code",
   "execution_count": 175,
   "metadata": {},
   "outputs": [
    {
     "name": "stdout",
     "output_type": "stream",
     "text": [
      "<class 'pandas.core.series.Series'>\n",
      "Index: 354 entries, 5 to 102\n",
      "Series name: TX_OCUPACAO\n",
      "Non-Null Count  Dtype  \n",
      "--------------  -----  \n",
      "354 non-null    float64\n",
      "dtypes: float64(1)\n",
      "memory usage: 5.5 KB\n"
     ]
    }
   ],
   "source": [
    "y_train.info()"
   ]
  },
  {
   "cell_type": "code",
   "execution_count": 176,
   "metadata": {},
   "outputs": [
    {
     "name": "stdout",
     "output_type": "stream",
     "text": [
      "Correlação de Pearson: 0.6984907195715625\n",
      "P-valor: 4.275245516661134e-53\n"
     ]
    }
   ],
   "source": [
    "from scipy.stats import pearsonr\n",
    "corr, pval = pearsonr(X_train['MEDIA_QUARTOS'], y_train)\n",
    "\n",
    "print('Correlação de Pearson:', corr)\n",
    "print('P-valor:', pval)"
   ]
  },
  {
   "cell_type": "code",
   "execution_count": 177,
   "metadata": {},
   "outputs": [
    {
     "name": "stdout",
     "output_type": "stream",
     "text": [
      "                            OLS Regression Results                            \n",
      "==============================================================================\n",
      "Dep. Variable:            TX_OCUPACAO   R-squared:                       0.488\n",
      "Model:                            OLS   Adj. R-squared:                  0.486\n",
      "Method:                 Least Squares   F-statistic:                     335.4\n",
      "Date:                Wed, 12 Apr 2023   Prob (F-statistic):           4.28e-53\n",
      "Time:                        17:03:14   Log-Likelihood:                -1176.1\n",
      "No. Observations:                 354   AIC:                             2356.\n",
      "Df Residuals:                     352   BIC:                             2364.\n",
      "Df Model:                           1                                         \n",
      "Covariance Type:            nonrobust                                         \n",
      "=================================================================================\n",
      "                    coef    std err          t      P>|t|      [0.025      0.975]\n",
      "---------------------------------------------------------------------------------\n",
      "const           -34.6623      3.170    -10.935      0.000     -40.897     -28.428\n",
      "MEDIA_QUARTOS     9.1181      0.498     18.313      0.000       8.139      10.097\n",
      "==============================================================================\n",
      "Omnibus:                       68.446   Durbin-Watson:                   2.142\n",
      "Prob(Omnibus):                  0.000   Jarque-Bera (JB):              436.621\n",
      "Skew:                           0.608   Prob(JB):                     1.55e-95\n",
      "Kurtosis:                       8.303   Cond. No.                         57.8\n",
      "==============================================================================\n",
      "\n",
      "Notes:\n",
      "[1] Standard Errors assume that the covariance matrix of the errors is correctly specified.\n"
     ]
    }
   ],
   "source": [
    "import statsmodels.api as sm\n",
    "# Criação do modelo de regressão linear\n",
    "modelo = sm.OLS(y_train, sm.add_constant(X_train)).fit()\n",
    "# Resumo do modelo\n",
    "print(modelo.summary())"
   ]
  },
  {
   "cell_type": "code",
   "execution_count": 178,
   "metadata": {},
   "outputs": [
    {
     "name": "stdout",
     "output_type": "stream",
     "text": [
      "Previsão de treino:\n",
      "    Previsto  Real\n",
      "0  23.967090  28.7\n",
      "1  21.651092  21.2\n",
      "2  17.146749  19.3\n",
      "3  19.453629  23.1\n",
      "4  19.371566  19.1\n"
     ]
    }
   ],
   "source": [
    "# Previsão da taxa de ocupação\n",
    "previsao_treino = modelo.predict(sm.add_constant(X_train))\n",
    "previsao_real_treino = np.column_stack((previsao_treino, y_train))\n",
    "previsao_real_treino = pd.DataFrame(previsao_real_treino, columns=['Previsto', 'Real'])\n",
    "\n",
    "# Exibição das previsões\n",
    "print('Previsão de treino:')\n",
    "print(previsao_real_treino.head())"
   ]
  },
  {
   "cell_type": "code",
   "execution_count": 179,
   "metadata": {},
   "outputs": [
    {
     "name": "stdout",
     "output_type": "stream",
     "text": [
      "MSE de treino: 45.01275449524406\n",
      "RMSE de treino: 6.709154529092623\n"
     ]
    }
   ],
   "source": [
    "# Cálculo do MSE e RMSE\n",
    "mse_treino = np.mean((previsao_real_treino['Previsto'] - previsao_real_treino['Real'])**2)\n",
    "rmse_treino = np.sqrt(mse_treino)\n",
    "\n",
    "print('MSE de treino:', mse_treino)\n",
    "print('RMSE de treino:', rmse_treino)"
   ]
  },
  {
   "cell_type": "code",
   "execution_count": 180,
   "metadata": {},
   "outputs": [
    {
     "data": {
      "image/png": "[encoded data removed]",
      "text/plain": [
       "<Figure size 640x480 with 1 Axes>"
      ]
     },
     "metadata": {},
     "output_type": "display_data"
    }
   ],
   "source": [
    "# Gráfico de dispersão\n",
    "plt.scatter(X_train, y_train, color='green', marker='o', label='Dados')\n",
    "\n",
    "# Adiciona título e rótulos nos eixos\n",
    "plt.title('Dispersão entre média de quartos e taxa de ocupação')\n",
    "plt.xlabel('Média Quartos')\n",
    "plt.ylabel('Taxa Ocupação')\n",
    "\n",
    "# Adiciona a linha de regressão\n",
    "modelo = sm.OLS(y_train, sm.add_constant(X_train)).fit()\n",
    "coeficientes = modelo.params\n",
    "plt.plot(X_train, coeficientes[0] + coeficientes[1]*X_train, color='darkblue', linewidth=2)\n",
    "\n",
    "# Mostra o gráfico\n",
    "plt.show()"
   ]
  },
  {
   "attachments": {},
   "cell_type": "markdown",
   "metadata": {},
   "source": [
    "#### Previsao conjunto TESTE"
   ]
  },
  {
   "cell_type": "code",
   "execution_count": 191,
   "metadata": {},
   "outputs": [
    {
     "name": "stdout",
     "output_type": "stream",
     "text": [
      "                            OLS Regression Results                            \n",
      "==============================================================================\n",
      "Dep. Variable:            TX_OCUPACAO   R-squared:                       0.460\n",
      "Model:                            OLS   Adj. R-squared:                  0.457\n",
      "Method:                 Least Squares   F-statistic:                     128.0\n",
      "Date:                Wed, 12 Apr 2023   Prob (F-statistic):           7.71e-22\n",
      "Time:                        17:36:46   Log-Likelihood:                -496.43\n",
      "No. Observations:                 152   AIC:                             996.9\n",
      "Df Residuals:                     150   BIC:                             1003.\n",
      "Df Model:                           1                                         \n",
      "Covariance Type:            nonrobust                                         \n",
      "=================================================================================\n",
      "                    coef    std err          t      P>|t|      [0.025      0.975]\n",
      "---------------------------------------------------------------------------------\n",
      "const           -34.1401      4.938     -6.914      0.000     -43.897     -24.383\n",
      "MEDIA_QUARTOS     8.9752      0.793     11.312      0.000       7.407      10.543\n",
      "==============================================================================\n",
      "Omnibus:                       44.738   Durbin-Watson:                   2.152\n",
      "Prob(Omnibus):                  0.000   Jarque-Bera (JB):              170.345\n",
      "Skew:                           1.028   Prob(JB):                     1.02e-37\n",
      "Kurtosis:                       7.762   Cond. No.                         60.9\n",
      "==============================================================================\n",
      "\n",
      "Notes:\n",
      "[1] Standard Errors assume that the covariance matrix of the errors is correctly specified.\n"
     ]
    }
   ],
   "source": [
    "# Criação do modelo de regressão linear\n",
    "modelo2 = sm.OLS(y_test, sm.add_constant(X_test)).fit()\n",
    "# Resumo do modelo\n",
    "print(modelo2.summary())"
   ]
  },
  {
   "cell_type": "code",
   "execution_count": 192,
   "metadata": {},
   "outputs": [
    {
     "name": "stdout",
     "output_type": "stream",
     "text": [
      "Previsão de test:\n",
      "    Previsto  Real\n",
      "0  23.444731  23.6\n",
      "1  26.514246  32.4\n",
      "2  19.558474  13.6\n",
      "3  20.294440  22.8\n",
      "4  22.376684  16.1\n"
     ]
    }
   ],
   "source": [
    "# Previsão da taxa de ocupação\n",
    "previsao_test = modelo2.predict(sm.add_constant(X_test))\n",
    "previsao_real_test = np.column_stack((previsao_test, y_test))\n",
    "previsao_real_test = pd.DataFrame(previsao_real_test, columns=['Previsto', 'Real'])\n",
    "\n",
    "# Exibição das previsões\n",
    "print('Previsão de test:')\n",
    "print(previsao_real_test.head())"
   ]
  },
  {
   "cell_type": "code",
   "execution_count": 193,
   "metadata": {},
   "outputs": [
    {
     "name": "stdout",
     "output_type": "stream",
     "text": [
      "MSE de test: 40.21151144817721\n",
      "RMSE de test: 6.341254721912471\n"
     ]
    }
   ],
   "source": [
    "# Cálculo do MSE e RMSE\n",
    "mse_test = np.mean((previsao_real_test['Previsto'] - previsao_real_test['Real'])**2)\n",
    "rmse_test = np.sqrt(mse_test)\n",
    "\n",
    "print('MSE de test:', mse_test)\n",
    "print('RMSE de test:', rmse_test)"
   ]
  }
 ],
 "metadata": {
  "kernelspec": {
   "display_name": "Python 3",
   "language": "python",
   "name": "python3"
  },
  "language_info": {
   "codemirror_mode": {
    "name": "ipython",
    "version": 3
   },
   "file_extension": ".py",
   "mimetype": "text/x-python",
   "name": "python",
   "nbconvert_exporter": "python",
   "pygments_lexer": "ipython3",
   "version": "3.10.8"
  },
  "orig_nbformat": 4,
  "vscode": {
   "interpreter": {
    "hash": "336295d508b094686eaf9f75dae8800c5c8c863f253658ee66d2acca65590102"
   }
  }
 },
 "nbformat": 4,
 "nbformat_minor": 2
}

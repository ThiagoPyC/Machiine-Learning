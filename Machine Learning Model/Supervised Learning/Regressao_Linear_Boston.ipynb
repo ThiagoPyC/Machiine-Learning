{
  "nbformat": 4,
  "nbformat_minor": 0,
  "metadata": {
    "colab": {
      "provenance": []
    },
    "kernelspec": {
      "name": "python3",
      "display_name": "Python 3"
    }
  },
  "cells": [
    {
      "cell_type": "markdown",
      "metadata": {
        "id": "gZrXosczhbAn"
      },
      "source": [
        "\n",
        "# Regressão Linear, Ridge e Lasso\n",
        "\n",
        "Realiza uma análise comparativa entre a Regressão Linear, o Ridge e o Lasso no Boston Housing Dataset.\n",
        "\n",
        "-------------------------------------------------------------------------------\n",
        "\n",
        "### Base de dados: Boston Housing dataset\n",
        "\n",
        "http://www.cs.toronto.edu/~delve/data/boston/bostonDetail.html\n",
        "\n",
        "506 registros\n",
        "\n",
        "13 atributos + label\n",
        "\n"
      ]
    },
    {
      "cell_type": "code",
      "metadata": {
        "id": "xvDWWf3Bg7Jv",
        "colab": {
          "base_uri": "https://localhost:8080/"
        },
        "outputId": "d13bae65-c786-4bd7-f0bd-7600bac74bd2"
      },
      "source": [
        "# from sklearn.datasets import load_boston\n",
        "import pandas as pd\n",
        "\n",
        "from sklearn.model_selection import train_test_split\n",
        "from sklearn.preprocessing import MinMaxScaler, PolynomialFeatures\n",
        "from sklearn.linear_model import LinearRegression, Ridge, Lasso\n",
        "\n",
        "import numpy as np\n",
        "import matplotlib.pyplot as plt\n",
        "\n",
        "# boston = load_boston()\n",
        "# X = boston.data\n",
        "data_url = \"http://lib.stat.cmu.edu/datasets/boston\"\n",
        "raw_df = pd.read_csv(data_url, sep=\"\\s+\", skiprows=22, header=None)\n",
        "X = np.hstack([raw_df.values[::2, :], raw_df.values[1::2, :2]])\n",
        "y = raw_df.values[1::2, 2]\n",
        "\n",
        "print(\"Numero de atributos original:\")\n",
        "print(X.shape,y.shape)"
      ],
      "execution_count": 1,
      "outputs": [
        {
          "output_type": "stream",
          "name": "stdout",
          "text": [
            "Numero de atributos original:\n",
            "(506, 13) (506,)\n"
          ]
        }
      ]
    },
    {
      "cell_type": "code",
      "source": [
        "# X"
      ],
      "metadata": {
        "id": "zn9MNpYRo4wZ"
      },
      "execution_count": 2,
      "outputs": []
    },
    {
      "cell_type": "code",
      "source": [
        "# y"
      ],
      "metadata": {
        "id": "HtG7iJVjpBdP"
      },
      "execution_count": 3,
      "outputs": []
    },
    {
      "cell_type": "code",
      "metadata": {
        "id": "z10icBAulfx6",
        "colab": {
          "base_uri": "https://localhost:8080/"
        },
        "outputId": "46d07f41-bb50-4d14-dd13-01b398b6faf5"
      },
      "source": [
        "# standardScaler()\n",
        "X = MinMaxScaler().fit_transform(X) # Quando trabalhamos com dados números em escalas diferentes, alguns algoritmos podem sofrer com a falta de normalização desses números\n",
        "X"
      ],
      "execution_count": 4,
      "outputs": [
        {
          "output_type": "execute_result",
          "data": {
            "text/plain": [
              "array([[0.00000000e+00, 1.80000000e-01, 6.78152493e-02, ...,\n",
              "        2.87234043e-01, 1.00000000e+00, 8.96799117e-02],\n",
              "       [2.35922539e-04, 0.00000000e+00, 2.42302053e-01, ...,\n",
              "        5.53191489e-01, 1.00000000e+00, 2.04470199e-01],\n",
              "       [2.35697744e-04, 0.00000000e+00, 2.42302053e-01, ...,\n",
              "        5.53191489e-01, 9.89737254e-01, 6.34657837e-02],\n",
              "       ...,\n",
              "       [6.11892474e-04, 0.00000000e+00, 4.20454545e-01, ...,\n",
              "        8.93617021e-01, 1.00000000e+00, 1.07891832e-01],\n",
              "       [1.16072990e-03, 0.00000000e+00, 4.20454545e-01, ...,\n",
              "        8.93617021e-01, 9.91300620e-01, 1.31070640e-01],\n",
              "       [4.61841693e-04, 0.00000000e+00, 4.20454545e-01, ...,\n",
              "        8.93617021e-01, 1.00000000e+00, 1.69701987e-01]])"
            ]
          },
          "metadata": {},
          "execution_count": 4
        }
      ]
    },
    {
      "cell_type": "code",
      "metadata": {
        "id": "hEDh8euQmAB4",
        "colab": {
          "base_uri": "https://localhost:8080/"
        },
        "outputId": "fd57ef1a-4048-4ee8-e0ca-0f7408c1f8a8"
      },
      "source": [
        "y[0:5]"
      ],
      "execution_count": 5,
      "outputs": [
        {
          "output_type": "execute_result",
          "data": {
            "text/plain": [
              "array([24. , 21.6, 34.7, 33.4, 36.2])"
            ]
          },
          "metadata": {},
          "execution_count": 5
        }
      ]
    },
    {
      "cell_type": "markdown",
      "metadata": {
        "id": "ETJFi2qY0LvR"
      },
      "source": [
        "### Regressão Linear\n",
        "\n",
        "\n",
        "Os passos para indução de um modelo são:\n",
        "\n",
        "1.   Instanciar o modelo: ``` LinearRegression()```\n",
        "2.   Treinar o modelo: ```fit()```\n",
        "\n",
        "O método ```score()``` retorna o coeficiente R^2 de predição.\n"
      ]
    },
    {
      "cell_type": "code",
      "metadata": {
        "id": "YwVV9qBzl9Jy",
        "colab": {
          "base_uri": "https://localhost:8080/"
        },
        "outputId": "d31ba126-0e8b-4fda-87ce-ca4b45438747"
      },
      "source": [
        "X_train, X_test, y_train, y_test = train_test_split(X, y, random_state=42)\n",
        "\n",
        "lr = LinearRegression().fit(X_train, y_train)\n",
        "\n",
        "print(\"Regressão Linear (original)\")\n",
        "print(\"Coeficiente R^2 na base de treinamento: {:.2f}\".format(lr.score(X_train, y_train)))"
      ],
      "execution_count": 6,
      "outputs": [
        {
          "output_type": "stream",
          "name": "stdout",
          "text": [
            "Regressão Linear (original)\n",
            "Coeficiente R^2 na base de treinamento: 0.75\n"
          ]
        }
      ]
    },
    {
      "cell_type": "code",
      "metadata": {
        "id": "qt1l3dwBn5fc",
        "colab": {
          "base_uri": "https://localhost:8080/"
        },
        "outputId": "1b4dcdb8-1f44-4910-96dc-cee247573cff"
      },
      "source": [
        "print(\"Coeficiente R^2 na base de teste: {:.2f}\".format(lr.score(X_test, y_test)))"
      ],
      "execution_count": 7,
      "outputs": [
        {
          "output_type": "stream",
          "name": "stdout",
          "text": [
            "Coeficiente R^2 na base de teste: 0.68\n"
          ]
        }
      ]
    },
    {
      "cell_type": "code",
      "source": [
        "lr.coef_"
      ],
      "metadata": {
        "id": "xGCenzxWE29u",
        "colab": {
          "base_uri": "https://localhost:8080/"
        },
        "outputId": "06f55228-e67c-484a-974c-903e3b863a8f"
      },
      "execution_count": 8,
      "outputs": [
        {
          "output_type": "execute_result",
          "data": {
            "text/plain": [
              "array([-11.41684968,   2.95517751,   1.33287607,   2.77350326,\n",
              "        -7.89207097,  22.80053112,  -0.89798872, -15.40519074,\n",
              "         5.92850858,  -5.21744086,  -8.67735568,   5.22907382,\n",
              "       -18.75925615])"
            ]
          },
          "metadata": {},
          "execution_count": 8
        }
      ]
    },
    {
      "cell_type": "code",
      "source": [
        "lr.intercept_"
      ],
      "metadata": {
        "id": "xRoTqhDIFcrf",
        "colab": {
          "base_uri": "https://localhost:8080/"
        },
        "outputId": "dcc703b3-c934-41b3-c638-c5ca22b9b388"
      },
      "execution_count": 9,
      "outputs": [
        {
          "output_type": "execute_result",
          "data": {
            "text/plain": [
              "23.427198204284554"
            ]
          },
          "metadata": {},
          "execution_count": 9
        }
      ]
    },
    {
      "cell_type": "code",
      "metadata": {
        "id": "3JkqgiCgHTUp",
        "colab": {
          "base_uri": "https://localhost:8080/"
        },
        "outputId": "732ebeca-d217-4e92-88a0-c418560122e4"
      },
      "source": [
        "print(\"Número de atributos usados: {}\".format(np.sum(lr.coef_ != 0)))"
      ],
      "execution_count": 10,
      "outputs": [
        {
          "output_type": "stream",
          "name": "stdout",
          "text": [
            "Número de atributos usados: 13\n"
          ]
        }
      ]
    },
    {
      "cell_type": "code",
      "metadata": {
        "id": "rc6IZXqvn_NB"
      },
      "source": [
        "# print(\"Descrição do modelo: \")\n",
        "# print([round(v,2) for v in lr.coef_])\n",
        "\n",
        "# print(round(lr.intercept_,2))"
      ],
      "execution_count": 11,
      "outputs": []
    },
    {
      "cell_type": "markdown",
      "metadata": {
        "id": "djlJKy_YpGHh"
      },
      "source": [
        "### Podemos derivar novas features, inclusive transformar os dados em polinomiais (xˆ2 * x + C, etc)"
      ]
    },
    {
      "cell_type": "code",
      "metadata": {
        "id": "PeHRBHNQsk_G",
        "colab": {
          "base_uri": "https://localhost:8080/"
        },
        "outputId": "5f8cdac1-a7c8-4eb1-c6e0-28f61bf04a2f"
      },
      "source": [
        "# O PolynomialFeaures() aumenta a dimensão dos dados produzindo novos atributos\n",
        "# que são combinações lineares dos dados originais.\n",
        "# De um jeito simples a gente consegue gerar novas features.\n",
        "\n",
        "X = PolynomialFeatures(degree=2, include_bias=False).fit_transform(X)\n",
        "\n",
        "print(\"Polynomial Features (atributos redundantes):\")\n",
        "print(X.shape)\n"
      ],
      "execution_count": 12,
      "outputs": [
        {
          "output_type": "stream",
          "name": "stdout",
          "text": [
            "Polynomial Features (atributos redundantes):\n",
            "(506, 104)\n"
          ]
        }
      ]
    },
    {
      "cell_type": "code",
      "metadata": {
        "id": "R4_bnX5ZKvmR",
        "colab": {
          "base_uri": "https://localhost:8080/"
        },
        "outputId": "47633cb5-a48c-41dd-9e60-2f563e9fabcc"
      },
      "source": [
        "X"
      ],
      "execution_count": 13,
      "outputs": [
        {
          "output_type": "execute_result",
          "data": {
            "text/plain": [
              "array([[0.00000000e+00, 1.80000000e-01, 6.78152493e-02, ...,\n",
              "        1.00000000e+00, 8.96799117e-02, 8.04248656e-03],\n",
              "       [2.35922539e-04, 0.00000000e+00, 2.42302053e-01, ...,\n",
              "        1.00000000e+00, 2.04470199e-01, 4.18080621e-02],\n",
              "       [2.35697744e-04, 0.00000000e+00, 2.42302053e-01, ...,\n",
              "        9.79579831e-01, 6.28144504e-02, 4.02790570e-03],\n",
              "       ...,\n",
              "       [6.11892474e-04, 0.00000000e+00, 4.20454545e-01, ...,\n",
              "        1.00000000e+00, 1.07891832e-01, 1.16406475e-02],\n",
              "       [1.16072990e-03, 0.00000000e+00, 4.20454545e-01, ...,\n",
              "        9.82676920e-01, 1.29930407e-01, 1.71795127e-02],\n",
              "       [4.61841693e-04, 0.00000000e+00, 4.20454545e-01, ...,\n",
              "        1.00000000e+00, 1.69701987e-01, 2.87987643e-02]])"
            ]
          },
          "metadata": {},
          "execution_count": 13
        }
      ]
    },
    {
      "cell_type": "code",
      "metadata": {
        "id": "R1vwYYqg0MWS",
        "colab": {
          "base_uri": "https://localhost:8080/"
        },
        "outputId": "be0904cf-94db-4b99-8562-59e2c2baa424"
      },
      "source": [
        "X_train, X_test, y_train, y_test = train_test_split(X, y, random_state=42)\n",
        "lr = LinearRegression().fit(X_train, y_train)\n",
        "\n",
        "print(\"Regressão Linear (com atributos redundantes)\")\n",
        "print(\"Coeficiente R^2 na base de treinamento: {:.2f}\".format(lr.score(X_train, y_train)))\n",
        "print(\"Coeficiente R^2 na base de teste: {:.2f}\".format(lr.score(X_test, y_test)))\n",
        "print(\"Número de atributos usados: {}\".format(np.sum(lr.coef_ != 0)))"
      ],
      "execution_count": 14,
      "outputs": [
        {
          "output_type": "stream",
          "name": "stdout",
          "text": [
            "Regressão Linear (com atributos redundantes)\n",
            "Coeficiente R^2 na base de treinamento: 0.94\n",
            "Coeficiente R^2 na base de teste: 0.78\n",
            "Número de atributos usados: 104\n"
          ]
        }
      ]
    },
    {
      "cell_type": "markdown",
      "metadata": {
        "id": "3vlTLXyVhq3k"
      },
      "source": [
        "### Ridge (Regressão linear com regularização L2)\n",
        "\n",
        "Força uma redução do valor dos coeficientes, penalizando coeficientes grandes que não contribuem significativamente para a explicação da variância do sinal.\n",
        "\n",
        "A força da regularização é dada pelo atributo ```alpha```, com valor *default* igual a 1.\n"
      ]
    },
    {
      "cell_type": "code",
      "metadata": {
        "id": "7-nqvNMOhtBk",
        "colab": {
          "base_uri": "https://localhost:8080/"
        },
        "outputId": "0543ae9c-39d0-45c6-c562-3e966fdd8b5c"
      },
      "source": [
        "ridge = Ridge().fit(X_train, y_train)\n",
        "print(\"Ridge alpha=1\")\n",
        "print(\"Coeficiente R^2 na base de treinamento: {:.2f}\".format(ridge.score(X_train, y_train)))\n",
        "print(\"Coeficiente R^2 na base de teste: {:.2f}\".format(ridge.score(X_test, y_test)))\n",
        "print(\"Número de atributos usados: {}\".format(np.sum(ridge.coef_ != 0)))\n",
        "\n",
        "ridge10 = Ridge(alpha=10).fit(X_train, y_train)\n",
        "print(\"Ridge alpha=10\")\n",
        "print(\"Coeficiente R^2 na base de treinamento: {:.2f}\".format(ridge10.score(X_train, y_train)))\n",
        "print(\"Coeficiente R^2 na base de teste: {:.2f}\".format(ridge10.score(X_test, y_test)))\n",
        "print(\"Número de atributos usados: {}\".format(np.sum(ridge10.coef_ != 0)))\n",
        "\n",
        "\n",
        "ridge01 = Ridge(alpha=0.1).fit(X_train, y_train)\n",
        "print(\"Ridge alpha=0.1\")\n",
        "print(\"Coeficiente R^2 na base de treinamento: {:.2f}\".format(ridge01.score(X_train, y_train)))\n",
        "print(\"Coeficiente R^2 na base de teste: {:.2f}\".format(ridge01.score(X_test, y_test)))\n",
        "print(\"Número de atributos usados: {}\".format(np.sum(ridge01.coef_ != 0)))\n",
        "\n"
      ],
      "execution_count": 15,
      "outputs": [
        {
          "output_type": "stream",
          "name": "stdout",
          "text": [
            "Ridge alpha=1\n",
            "Coeficiente R^2 na base de treinamento: 0.87\n",
            "Coeficiente R^2 na base de teste: 0.81\n",
            "Número de atributos usados: 104\n",
            "Ridge alpha=10\n",
            "Coeficiente R^2 na base de treinamento: 0.77\n",
            "Coeficiente R^2 na base de teste: 0.73\n",
            "Número de atributos usados: 104\n",
            "Ridge alpha=0.1\n",
            "Coeficiente R^2 na base de treinamento: 0.92\n",
            "Coeficiente R^2 na base de teste: 0.82\n",
            "Número de atributos usados: 104\n"
          ]
        }
      ]
    },
    {
      "cell_type": "markdown",
      "metadata": {
        "id": "yPOeRRg115-h"
      },
      "source": [
        "### Comparação da Regressão linear e Ridge\n",
        "\n",
        "O gráfico exibe a magnitude dos coeficientes obtidos por cada método. Pode-se observar como a regularização afeta a magnitude dos coeficientes do Ridge como um todo, mas sem zerar coeficientes de uma forma geral."
      ]
    },
    {
      "cell_type": "code",
      "metadata": {
        "id": "4qFXjfPeg9XZ",
        "colab": {
          "base_uri": "https://localhost:8080/"
        },
        "outputId": "4c1edc03-4d59-49f1-a132-3300e5f0c34e"
      },
      "source": [
        "max(abs(ridge01.coef_)), max(abs(ridge.coef_)), max(abs(ridge10.coef_))"
      ],
      "execution_count": 16,
      "outputs": [
        {
          "output_type": "execute_result",
          "data": {
            "text/plain": [
              "(26.23617254240907, 18.061844695407686, 7.818432973533683)"
            ]
          },
          "metadata": {},
          "execution_count": 16
        }
      ]
    },
    {
      "cell_type": "code",
      "metadata": {
        "id": "2cAlohxg18KF",
        "colab": {
          "base_uri": "https://localhost:8080/",
          "height": 542
        },
        "outputId": "023275cd-a779-4bf6-e759-95ba4127bdbf"
      },
      "source": [
        "plt.figure(figsize=(9, 6))\n",
        "plt.plot(ridge.coef_, 's', label=\"Ridge alpha=1\")\n",
        "plt.plot(ridge10.coef_, '^', label=\"Ridge alpha=10\")\n",
        "plt.plot(ridge01.coef_, 'v', label=\"Ridge alpha=0.1\")\n",
        "plt.plot(lr.coef_, 'o', label=\"Regressão linear\")\n",
        "plt.xlabel(\"Coeficiente\")\n",
        "plt.ylabel(\"Magnitude\")\n",
        "plt.hlines(0, 0, len(lr.coef_))\n",
        "plt.ylim(-25, 25)\n",
        "plt.legend();\n"
      ],
      "execution_count": 17,
      "outputs": [
        {
          "output_type": "display_data",
          "data": {
            "text/plain": [
              "<Figure size 900x600 with 1 Axes>"
            ],
            "image/png": "[encoded data removed]"
          },
          "metadata": {}
        }
      ]
    },
    {
      "cell_type": "markdown",
      "metadata": {
        "id": "YM97-e-0hw97"
      },
      "source": [
        "### LASSO (Regressão linear com regularização L1)\n",
        "\n",
        "Força uma redução do valor dos coeficientes, podendo zerar diversos coeficientes cujos atributos não contribuem significativamente para a previsão. Muito utilizado no apoio à tarefa de seleção de atributos (*feature selection*).\n",
        "\n",
        "A força da regularização é dada pelo atributo ```alpha```, com valor *default* igual a 1. ```Alpha=0``` resulta na regressão linear tradicional.\n"
      ]
    },
    {
      "cell_type": "code",
      "metadata": {
        "id": "7s_dXacHhyDd",
        "colab": {
          "base_uri": "https://localhost:8080/"
        },
        "outputId": "1d74619a-14bf-41c9-aae1-2f0a02aa0ce3"
      },
      "source": [
        "lasso = Lasso().fit(X_train, y_train)\n",
        "print(\"Lasso alpha=1\")\n",
        "print(\"Acurácia na base de treinamento: {:.2f}\".format(lasso.score(X_train, y_train)))\n",
        "print(\"Acurácia na base de teste: {:.2f}\".format(lasso.score(X_test, y_test)))\n",
        "print(\"Número de atributos usados: {}\".format(np.sum(lasso.coef_ != 0)))\n",
        "\n",
        "\n",
        "lasso01 = Lasso(alpha=0.1, max_iter=100000).fit(X_train, y_train)\n",
        "print(\"Lasso alpha=.1\")\n",
        "print(\"Acurácia na base de treinamento: {:.2f}\".format(lasso01.score(X_train, y_train)))\n",
        "print(\"Acurácia na base de teste: {:.2f}\".format(lasso01.score(X_test, y_test)))\n",
        "print(\"Número de atributos usados: {}\".format(np.sum(lasso01.coef_ != 0)))\n",
        "\n",
        "\n",
        "lasso001 = Lasso(alpha=0.01, max_iter=100000).fit(X_train, y_train)\n",
        "print(\"Lasso alpha=.01\")\n",
        "print(\"Acurácia na base de treinamento: {:.2f}\".format(lasso001.score(X_train, y_train)))\n",
        "print(\"Acurácia na base de teste: {:.2f}\".format(lasso001.score(X_test, y_test)))\n",
        "print(\"Número de atributos usados: {}\".format(np.sum(lasso001.coef_ != 0)))\n",
        "\n",
        "lasso0001 = Lasso(alpha=0.001, max_iter=100000).fit(X_train, y_train)\n",
        "print(\"Lasso alpha=.001\")\n",
        "print(\"Acurácia na base de treinamento: {:.2f}\".format(lasso0001.score(X_train, y_train)))\n",
        "print(\"Acurácia na base de teste: {:.2f}\".format(lasso0001.score(X_test, y_test)))\n",
        "print(\"Número de atributos usados: {}\".format(np.sum(lasso0001.coef_ != 0)))\n",
        "\n"
      ],
      "execution_count": 18,
      "outputs": [
        {
          "output_type": "stream",
          "name": "stdout",
          "text": [
            "Lasso alpha=1\n",
            "Acurácia na base de treinamento: 0.27\n",
            "Acurácia na base de teste: 0.26\n",
            "Número de atributos usados: 3\n",
            "Lasso alpha=.1\n",
            "Acurácia na base de treinamento: 0.75\n",
            "Acurácia na base de teste: 0.70\n",
            "Número de atributos usados: 12\n",
            "Lasso alpha=.01\n",
            "Acurácia na base de treinamento: 0.89\n",
            "Acurácia na base de teste: 0.80\n",
            "Número de atributos usados: 34\n",
            "Lasso alpha=.001\n",
            "Acurácia na base de treinamento: 0.93\n",
            "Acurácia na base de teste: 0.82\n",
            "Número de atributos usados: 73\n"
          ]
        }
      ]
    },
    {
      "cell_type": "markdown",
      "source": [
        "Observe o que houve com o número de atributos usados em cada grau de regularização"
      ],
      "metadata": {
        "id": "1SZT_-DjnzLq"
      }
    },
    {
      "cell_type": "markdown",
      "metadata": {
        "id": "LhVLCHdg3MPV"
      },
      "source": [
        "\n",
        "O gráfico exibe a magnitude dos coeficientes obtidos por cada método."
      ]
    },
    {
      "cell_type": "code",
      "metadata": {
        "id": "e2CUpsfCiYSd",
        "colab": {
          "base_uri": "https://localhost:8080/"
        },
        "outputId": "f50c6cdd-7267-4261-d697-b3d3b4979a0d"
      },
      "source": [
        "max(abs(lasso.coef_)), max(abs(lasso001.coef_)), max(abs(lasso0001.coef_))"
      ],
      "execution_count": 19,
      "outputs": [
        {
          "output_type": "execute_result",
          "data": {
            "text/plain": [
              "(8.260695613851409, 35.01465553559307, 149.7772042992545)"
            ]
          },
          "metadata": {},
          "execution_count": 19
        }
      ]
    },
    {
      "cell_type": "code",
      "metadata": {
        "id": "1sMC_ZQj3Mxz",
        "colab": {
          "base_uri": "https://localhost:8080/",
          "height": 628
        },
        "outputId": "7c782ad9-79e4-4813-8b84-1d4a97a46832"
      },
      "source": [
        "plt.figure(figsize=(9, 6))\n",
        "plt.plot(lasso.coef_, 's', label=\"Lasso alpha=1\")\n",
        "plt.plot(lasso001.coef_, '^', label=\"Lasso alpha=0.01\")\n",
        "plt.plot(lasso0001.coef_, 'v', label=\"Lasso alpha=0.001\")\n",
        "plt.plot(lr.coef_, 'o', label=\"Regressão linear\")\n",
        "plt.legend(ncol=2, loc=(0, 1.05))\n",
        "plt.ylim(-25, 25)\n",
        "plt.xlabel(\"Coeficiente\")\n",
        "plt.ylabel(\"Magnitude\")"
      ],
      "execution_count": 20,
      "outputs": [
        {
          "output_type": "execute_result",
          "data": {
            "text/plain": [
              "Text(0, 0.5, 'Magnitude')"
            ]
          },
          "metadata": {},
          "execution_count": 20
        },
        {
          "output_type": "display_data",
          "data": {
            "text/plain": [
              "<Figure size 900x600 with 1 Axes>"
            ],
            "image/png": "[encoded data removed]"
          },
          "metadata": {}
        }
      ]
    },
    {
      "cell_type": "code",
      "source": [],
      "metadata": {
        "id": "2vvc3WzcLT8i"
      },
      "execution_count": 20,
      "outputs": []
    }
  ]
}
{
  "nbformat": 4,
  "nbformat_minor": 0,
  "metadata": {
    "colab": {
      "provenance": []
    },
    "kernelspec": {
      "name": "python3",
      "display_name": "Python 3"
    },
    "language_info": {
      "name": "python"
    }
  },
  "cells": [
    {
      "cell_type": "markdown",
      "source": [
        "## Realize as tarefas solicitadas abaixo:\n",
        "\n",
        "\n",
        "\n",
        "1.   Aplique PCA para os datasets de cancer de mama e iris utilizando o pacote do scikit-learn;\n",
        "\n",
        "2.   Para os dois datasets, plote o gráfico dos eigen-values e identifique se há ponto de inflexão e qual é (número de componentes principais a serem utilizadas);\n",
        "\n",
        "3.   Aplique o LDA a partir do scikit-learn nos dois datasets (cancer de mama e iris);\n",
        "\n",
        "4.   Plote um comparativo entre PCA e LDA com 2 componentes para cada dataset.  "
      ],
      "metadata": {
        "id": "1hRCOa45_oX2"
      }
    },
    {
      "cell_type": "markdown",
      "source": [
        "## Importando bibliotecas\n"
      ],
      "metadata": {
        "id": "ssi5K7ZdBYZX"
      }
    },
    {
      "cell_type": "code",
      "source": [
        "import matplotlib.pyplot as plt\n",
        "import numpy as np\n",
        "import seaborn as sns\n",
        "import pandas as pd\n",
        "import sklearn as sk\n",
        "from sklearn.feature_selection import mutual_info_classif\n",
        "from sklearn.ensemble import RandomForestClassifier\n",
        "from sklearn import decomposition\n",
        "from sklearn import datasets\n",
        "from sklearn.decomposition import PCA\n",
        "from sklearn.discriminant_analysis import LinearDiscriminantAnalysis\n",
        "from sklearn.preprocessing import StandardScaler\n",
        "from sklearn.decomposition import PCA\n",
        "from sklearn.datasets import load_breast_cancer"
      ],
      "metadata": {
        "id": "jqZrH2tsBYM4"
      },
      "execution_count": null,
      "outputs": []
    },
    {
      "cell_type": "markdown",
      "source": [
        "## Importando os datasets"
      ],
      "metadata": {
        "id": "M15ZR-gtBm6z"
      }
    },
    {
      "cell_type": "code",
      "source": [
        "from sklearn.datasets import load_breast_cancer, load_iris"
      ],
      "metadata": {
        "id": "tGnSb9pRAaSq"
      },
      "execution_count": null,
      "outputs": []
    },
    {
      "cell_type": "markdown",
      "source": [
        "## Carregando os dados dos datasets"
      ],
      "metadata": {
        "id": "viC4N7jMCFyn"
      }
    },
    {
      "cell_type": "code",
      "source": [
        "cancer = load_breast_cancer()\n",
        "iris = load_iris()"
      ],
      "metadata": {
        "id": "XKmFEak_CIUa"
      },
      "execution_count": null,
      "outputs": []
    },
    {
      "cell_type": "code",
      "source": [
        "list(cancer.target_names)"
      ],
      "metadata": {
        "colab": {
          "base_uri": "https://localhost:8080/"
        },
        "id": "XMQUCVO7PBAG",
        "outputId": "4ffddbf9-0958-4a40-b615-e918e1cbab58"
      },
      "execution_count": null,
      "outputs": [
        {
          "output_type": "execute_result",
          "data": {
            "text/plain": [
              "['malignant', 'benign']"
            ]
          },
          "metadata": {},
          "execution_count": 240
        }
      ]
    },
    {
      "cell_type": "markdown",
      "source": [
        "## PCA"
      ],
      "metadata": {
        "id": "BIUQbyb_C0eA"
      }
    },
    {
      "cell_type": "markdown",
      "source": [
        "### PCA Iris"
      ],
      "metadata": {
        "id": "wX8iPs_uGicr"
      }
    },
    {
      "cell_type": "code",
      "execution_count": null,
      "metadata": {
        "id": "fCKDuoiC_hV2"
      },
      "outputs": [],
      "source": [
        "iris = datasets.load_iris()\n",
        "X = iris.data\n",
        "y = iris.target"
      ]
    },
    {
      "cell_type": "code",
      "source": [
        "pca = decomposition.PCA()\n",
        "pca.fit(X)\n",
        "X = pca.transform(X)\n",
        "\n",
        "print(pca.explained_variance_ratio_)\n",
        "print(pca.singular_values_)"
      ],
      "metadata": {
        "colab": {
          "base_uri": "https://localhost:8080/"
        },
        "id": "TJPjfIADVL7N",
        "outputId": "fe233186-d8d1-4240-8346-64b6b3b56b80"
      },
      "execution_count": null,
      "outputs": [
        {
          "output_type": "stream",
          "name": "stdout",
          "text": [
            "[0.92461872 0.05306648 0.01710261 0.00521218]\n",
            "[25.09996044  6.01314738  3.41368064  1.88452351]\n"
          ]
        }
      ]
    },
    {
      "cell_type": "code",
      "source": [
        "cov_iris = pca.get_covariance()\n",
        "pd.DataFrame(cov_iris)"
      ],
      "metadata": {
        "colab": {
          "base_uri": "https://localhost:8080/",
          "height": 175
        },
        "id": "a3OOoU3A1RmD",
        "outputId": "adb00a03-f65f-43da-97a7-84d63c87ca92"
      },
      "execution_count": null,
      "outputs": [
        {
          "output_type": "execute_result",
          "data": {
            "text/plain": [
              "          0         1         2         3\n",
              "0  0.685694 -0.042434  1.274315  0.516271\n",
              "1 -0.042434  0.189979 -0.329656 -0.121639\n",
              "2  1.274315 -0.329656  3.116278  1.295609\n",
              "3  0.516271 -0.121639  1.295609  0.581006"
            ],
            "text/html": [
              "\n",
              "  <div id=\"df-604d2de7-8a07-43b0-add8-d72ac705f7aa\">\n",
              "    <div class=\"colab-df-container\">\n",
              "      <div>\n",
              "<style scoped>\n",
              "    .dataframe tbody tr th:only-of-type {\n",
              "        vertical-align: middle;\n",
              "    }\n",
              "\n",
              "    .dataframe tbody tr th {\n",
              "        vertical-align: top;\n",
              "    }\n",
              "\n",
              "    .dataframe thead th {\n",
              "        text-align: right;\n",
              "    }\n",
              "</style>\n",
              "<table border=\"1\" class=\"dataframe\">\n",
              "  <thead>\n",
              "    <tr style=\"text-align: right;\">\n",
              "      <th></th>\n",
              "      <th>0</th>\n",
              "      <th>1</th>\n",
              "      <th>2</th>\n",
              "      <th>3</th>\n",
              "    </tr>\n",
              "  </thead>\n",
              "  <tbody>\n",
              "    <tr>\n",
              "      <th>0</th>\n",
              "      <td>0.685694</td>\n",
              "      <td>-0.042434</td>\n",
              "      <td>1.274315</td>\n",
              "      <td>0.516271</td>\n",
              "    </tr>\n",
              "    <tr>\n",
              "      <th>1</th>\n",
              "      <td>-0.042434</td>\n",
              "      <td>0.189979</td>\n",
              "      <td>-0.329656</td>\n",
              "      <td>-0.121639</td>\n",
              "    </tr>\n",
              "    <tr>\n",
              "      <th>2</th>\n",
              "      <td>1.274315</td>\n",
              "      <td>-0.329656</td>\n",
              "      <td>3.116278</td>\n",
              "      <td>1.295609</td>\n",
              "    </tr>\n",
              "    <tr>\n",
              "      <th>3</th>\n",
              "      <td>0.516271</td>\n",
              "      <td>-0.121639</td>\n",
              "      <td>1.295609</td>\n",
              "      <td>0.581006</td>\n",
              "    </tr>\n",
              "  </tbody>\n",
              "</table>\n",
              "</div>\n",
              "      <button class=\"colab-df-convert\" onclick=\"convertToInteractive('df-604d2de7-8a07-43b0-add8-d72ac705f7aa')\"\n",
              "              title=\"Convert this dataframe to an interactive table.\"\n",
              "              style=\"display:none;\">\n",
              "        \n",
              "  <svg xmlns=\"http://www.w3.org/2000/svg\" height=\"24px\"viewBox=\"0 0 24 24\"\n",
              "       width=\"24px\">\n",
              "    <path d=\"M0 0h24v24H0V0z\" fill=\"none\"/>\n",
              "    <path d=\"M18.56 5.44l.94 2.06.94-2.06 2.06-.94-2.06-.94-.94-2.06-.94 2.06-2.06.94zm-11 1L8.5 8.5l.94-2.06 2.06-.94-2.06-.94L8.5 2.5l-.94 2.06-2.06.94zm10 10l.94 2.06.94-2.06 2.06-.94-2.06-.94-.94-2.06-.94 2.06-2.06.94z\"/><path d=\"M17.41 7.96l-1.37-1.37c-.4-.4-.92-.59-1.43-.59-.52 0-1.04.2-1.43.59L10.3 9.45l-7.72 7.72c-.78.78-.78 2.05 0 2.83L4 21.41c.39.39.9.59 1.41.59.51 0 1.02-.2 1.41-.59l7.78-7.78 2.81-2.81c.8-.78.8-2.07 0-2.86zM5.41 20L4 18.59l7.72-7.72 1.47 1.35L5.41 20z\"/>\n",
              "  </svg>\n",
              "      </button>\n",
              "      \n",
              "  <style>\n",
              "    .colab-df-container {\n",
              "      display:flex;\n",
              "      flex-wrap:wrap;\n",
              "      gap: 12px;\n",
              "    }\n",
              "\n",
              "    .colab-df-convert {\n",
              "      background-color: #E8F0FE;\n",
              "      border: none;\n",
              "      border-radius: 50%;\n",
              "      cursor: pointer;\n",
              "      display: none;\n",
              "      fill: #1967D2;\n",
              "      height: 32px;\n",
              "      padding: 0 0 0 0;\n",
              "      width: 32px;\n",
              "    }\n",
              "\n",
              "    .colab-df-convert:hover {\n",
              "      background-color: #E2EBFA;\n",
              "      box-shadow: 0px 1px 2px rgba(60, 64, 67, 0.3), 0px 1px 3px 1px rgba(60, 64, 67, 0.15);\n",
              "      fill: #174EA6;\n",
              "    }\n",
              "\n",
              "    [theme=dark] .colab-df-convert {\n",
              "      background-color: #3B4455;\n",
              "      fill: #D2E3FC;\n",
              "    }\n",
              "\n",
              "    [theme=dark] .colab-df-convert:hover {\n",
              "      background-color: #434B5C;\n",
              "      box-shadow: 0px 1px 3px 1px rgba(0, 0, 0, 0.15);\n",
              "      filter: drop-shadow(0px 1px 2px rgba(0, 0, 0, 0.3));\n",
              "      fill: #FFFFFF;\n",
              "    }\n",
              "  </style>\n",
              "\n",
              "      <script>\n",
              "        const buttonEl =\n",
              "          document.querySelector('#df-604d2de7-8a07-43b0-add8-d72ac705f7aa button.colab-df-convert');\n",
              "        buttonEl.style.display =\n",
              "          google.colab.kernel.accessAllowed ? 'block' : 'none';\n",
              "\n",
              "        async function convertToInteractive(key) {\n",
              "          const element = document.querySelector('#df-604d2de7-8a07-43b0-add8-d72ac705f7aa');\n",
              "          const dataTable =\n",
              "            await google.colab.kernel.invokeFunction('convertToInteractive',\n",
              "                                                     [key], {});\n",
              "          if (!dataTable) return;\n",
              "\n",
              "          const docLinkHtml = 'Like what you see? Visit the ' +\n",
              "            '<a target=\"_blank\" href=https://colab.research.google.com/notebooks/data_table.ipynb>data table notebook</a>'\n",
              "            + ' to learn more about interactive tables.';\n",
              "          element.innerHTML = '';\n",
              "          dataTable['output_type'] = 'display_data';\n",
              "          await google.colab.output.renderOutput(dataTable, element);\n",
              "          const docLink = document.createElement('div');\n",
              "          docLink.innerHTML = docLinkHtml;\n",
              "          element.appendChild(docLink);\n",
              "        }\n",
              "      </script>\n",
              "    </div>\n",
              "  </div>\n",
              "  "
            ]
          },
          "metadata": {},
          "execution_count": 243
        }
      ]
    },
    {
      "cell_type": "code",
      "source": [
        "sns.heatmap(cov_iris)"
      ],
      "metadata": {
        "colab": {
          "base_uri": "https://localhost:8080/",
          "height": 283
        },
        "id": "QJWFo6swauWl",
        "outputId": "97a805b3-d660-4785-f95a-068f0615901b"
      },
      "execution_count": null,
      "outputs": [
        {
          "output_type": "execute_result",
          "data": {
            "text/plain": [
              "<Axes: >"
            ]
          },
          "metadata": {},
          "execution_count": 244
        },
        {
          "output_type": "display_data",
          "data": {
            "text/plain": [
              "<Figure size 432x288 with 2 Axes>"
            ],
            "image/png": "[encoded data removed]"
          },
          "metadata": {
            "needs_background": "light"
          }
        }
      ]
    },
    {
      "cell_type": "code",
      "source": [
        "eigen_values = pca.explained_variance_\n",
        "sns.lineplot(y=eigen_values, x=range(eigen_values.shape[0]));"
      ],
      "metadata": {
        "colab": {
          "base_uri": "https://localhost:8080/",
          "height": 265
        },
        "id": "IK-SL2SGbCH4",
        "outputId": "bd05ceee-a493-493f-fc2b-51fb90586410"
      },
      "execution_count": null,
      "outputs": [
        {
          "output_type": "display_data",
          "data": {
            "text/plain": [
              "<Figure size 432x288 with 1 Axes>"
            ],
            "image/png": "[encoded data removed]"
          },
          "metadata": {
            "needs_background": "light"
          }
        }
      ]
    },
    {
      "cell_type": "markdown",
      "source": [
        "### PCA Cancer"
      ],
      "metadata": {
        "id": "L0pQZzuJN54U"
      }
    },
    {
      "cell_type": "code",
      "source": [
        "breast_cancer = datasets.load_breast_cancer()\n",
        "type(breast_cancer)"
      ],
      "metadata": {
        "colab": {
          "base_uri": "https://localhost:8080/"
        },
        "id": "zZsBTkarPa_8",
        "outputId": "e071d2a8-ba36-4b5a-df94-d8acdf403ee0"
      },
      "execution_count": null,
      "outputs": [
        {
          "output_type": "execute_result",
          "data": {
            "text/plain": [
              "sklearn.utils._bunch.Bunch"
            ]
          },
          "metadata": {},
          "execution_count": 246
        }
      ]
    },
    {
      "cell_type": "code",
      "source": [
        "raw_data = breast_cancer.data"
      ],
      "metadata": {
        "id": "itGML1CtPiQI"
      },
      "execution_count": null,
      "outputs": []
    },
    {
      "cell_type": "code",
      "source": [
        "normalized_data = StandardScaler().fit_transform(raw_data)"
      ],
      "metadata": {
        "id": "Fx7-OqZbP0Kw"
      },
      "execution_count": null,
      "outputs": []
    },
    {
      "cell_type": "code",
      "source": [
        "pca = decomposition.PCA()\n",
        "pca_data = pca.fit_transform(normalized_data)\n",
        "print(pca.explained_variance_ratio_)\n",
        "print(pca.singular_values_)"
      ],
      "metadata": {
        "colab": {
          "base_uri": "https://localhost:8080/"
        },
        "id": "MtjQPqmIP_8N",
        "outputId": "8136d381-93da-4a7f-ae23-df3545ef2cdb"
      },
      "execution_count": null,
      "outputs": [
        {
          "output_type": "stream",
          "name": "stdout",
          "text": [
            "[4.42720256e-01 1.89711820e-01 9.39316326e-02 6.60213492e-02\n",
            " 5.49576849e-02 4.02452204e-02 2.25073371e-02 1.58872380e-02\n",
            " 1.38964937e-02 1.16897819e-02 9.79718988e-03 8.70537901e-03\n",
            " 8.04524987e-03 5.23365745e-03 3.13783217e-03 2.66209337e-03\n",
            " 1.97996793e-03 1.75395945e-03 1.64925306e-03 1.03864675e-03\n",
            " 9.99096464e-04 9.14646751e-04 8.11361259e-04 6.01833567e-04\n",
            " 5.16042379e-04 2.72587995e-04 2.30015463e-04 5.29779290e-05\n",
            " 2.49601032e-05 4.43482743e-06]\n",
            "[86.93235745 56.90677266 40.04263937 33.57058877 30.62887007 26.2104161\n",
            " 19.60102663 16.46800391 15.4017255  14.12602481 12.93205441 12.19019359\n",
            " 11.71889139  9.4519063   7.31866075  6.74106325  5.81360925  5.47175363\n",
            "  5.30591648  4.21066503  4.12971871  3.95133143  3.72155031  3.20519874\n",
            "  2.96796958  2.15709923  1.98150547  0.95096438  0.65273958  0.27514088]\n"
          ]
        }
      ]
    },
    {
      "cell_type": "code",
      "source": [
        "cov_cancer = pca.get_covariance()\n",
        "pd.DataFrame(cov_cancer)"
      ],
      "metadata": {
        "colab": {
          "base_uri": "https://localhost:8080/",
          "height": 1000
        },
        "id": "yl-EaBO_gg_T",
        "outputId": "76f7a4dc-3e64-4de8-88e1-1bb48413f3a3"
      },
      "execution_count": null,
      "outputs": [
        {
          "output_type": "execute_result",
          "data": {
            "text/plain": [
              "          0         1         2         3         4         5         6   \\\n",
              "0   1.001761  0.324352  0.999612  0.989095  0.170882  0.507015  0.677955   \n",
              "1   0.324352  1.001761  0.330113  0.321651 -0.023430  0.237119  0.302950   \n",
              "2   0.999612  0.330113  1.001761  0.988244  0.207643  0.557917  0.717396   \n",
              "3   0.989095  0.321651  0.988244  1.001761  0.177340  0.499379  0.687191   \n",
              "4   0.170882 -0.023430  0.207643  0.177340  1.001761  0.660284  0.522903   \n",
              "5   0.507015  0.237119  0.557917  0.499379  0.660284  1.001761  0.884675   \n",
              "6   0.677955  0.302950  0.717396  0.687191  0.522903  0.884675  1.001761   \n",
              "7   0.823977  0.293981  0.852475  0.824718  0.554670  0.832598  0.923013   \n",
              "8   0.148001  0.071527  0.183349  0.151559  0.558757  0.603702  0.501548   \n",
              "9  -0.312179 -0.076572 -0.261937 -0.283608  0.585822  0.566364  0.337376   \n",
              "10  0.680286  0.276354  0.692983  0.733852  0.301998  0.498349  0.633037   \n",
              "11 -0.097489  0.387038 -0.086914 -0.066397  0.068527  0.046286  0.076353   \n",
              "12  0.675359  0.282169  0.694355  0.727908  0.296613  0.549872  0.661553   \n",
              "13  0.737159  0.260302  0.746294  0.801495  0.246987  0.456455  0.618514   \n",
              "14 -0.222992  0.006625 -0.203051 -0.167070  0.332961  0.135537  0.098737   \n",
              "15  0.206363  0.192313  0.251185  0.212957  0.319505  0.740022  0.671459   \n",
              "16  0.194546  0.143545  0.228484  0.208026  0.248833  0.571521  0.692487   \n",
              "17  0.376831  0.164139  0.407934  0.372976  0.381346  0.643393  0.684463   \n",
              "18 -0.104505  0.009143 -0.081773 -0.072624  0.201128  0.230381  0.178323   \n",
              "19 -0.042716  0.054553 -0.005533 -0.019922  0.284106  0.508211  0.450092   \n",
              "20  0.971246  0.353194  0.971183  0.964441  0.213495  0.536258  0.689448   \n",
              "21  0.297531  0.913650  0.303572  0.287995  0.036135  0.248570  0.300407   \n",
              "22  0.966836  0.358670  0.972095  0.960808  0.239273  0.591250  0.730849   \n",
              "23  0.942739  0.344151  0.943207  0.960902  0.207082  0.510501  0.677177   \n",
              "24  0.119827  0.077640  0.150814  0.123740  0.806742  0.566537  0.449612   \n",
              "25  0.414191  0.278319  0.456577  0.391098  0.473300  0.867333  0.756297   \n",
              "26  0.527839  0.301555  0.564872  0.513508  0.435691  0.817712  0.885659   \n",
              "27  0.745524  0.295836  0.772599  0.723288  0.503939  0.817009  0.862839   \n",
              "28  0.164242  0.105193  0.189448  0.143823  0.395004  0.511122  0.410185   \n",
              "29  0.007078  0.119415  0.051108  0.003744  0.500195  0.688593  0.515836   \n",
              "\n",
              "          7         8         9   ...        20        21        22        23  \\\n",
              "0   0.823977  0.148001 -0.312179  ...  0.971246  0.297531  0.966836  0.942739   \n",
              "1   0.293981  0.071527 -0.076572  ...  0.353194  0.913650  0.358670  0.344151   \n",
              "2   0.852475  0.183349 -0.261937  ...  0.971183  0.303572  0.972095  0.943207   \n",
              "3   0.824718  0.151559 -0.283608  ...  0.964441  0.287995  0.960808  0.960902   \n",
              "4   0.554670  0.558757  0.585822  ...  0.213495  0.036135  0.239273  0.207082   \n",
              "5   0.832598  0.603702  0.566364  ...  0.536258  0.248570  0.591250  0.510501   \n",
              "6   0.923013  0.501548  0.337376  ...  0.689448  0.300407  0.730849  0.677177   \n",
              "7   1.001761  0.463312  0.167211  ...  0.831779  0.293267  0.857430  0.811055   \n",
              "8   0.463312  1.001761  0.480766  ...  0.186055  0.090810  0.219554  0.177505   \n",
              "9   0.167211  0.480766  1.001761  ... -0.254138 -0.051359 -0.205512 -0.232263   \n",
              "10  0.699279  0.303913  0.000111  ...  0.716324  0.195142  0.720951  0.752872   \n",
              "11  0.021517  0.128278  0.164463  ... -0.111887  0.409723 -0.102422 -0.083341   \n",
              "12  0.711901  0.314445  0.039900  ...  0.698428  0.200724  0.722301  0.731999   \n",
              "13  0.691514  0.224365 -0.090329  ...  0.758707  0.196843  0.762553  0.812836   \n",
              "14  0.027702  0.187651  0.402672  ... -0.231097 -0.074875 -0.217686 -0.182516   \n",
              "15  0.491288  0.422402  0.560822  ...  0.204967  0.143254  0.260974  0.199722   \n",
              "16  0.439940  0.343230  0.447417  ...  0.187233  0.100417  0.227080  0.188684   \n",
              "17  0.616718  0.393990  0.341799  ...  0.358757  0.086894  0.395695  0.342874   \n",
              "18  0.095519  0.449927  0.345615  ... -0.128346 -0.077610 -0.103936 -0.110537   \n",
              "19  0.258037  0.332370  0.689343  ... -0.037554 -0.003201 -0.001002 -0.022776   \n",
              "20  0.831779  0.186055 -0.254138  ...  1.001761  0.360554  0.995457  0.985747   \n",
              "21  0.293267  0.090810 -0.051359  ...  0.360554  1.001761  0.365741  0.346451   \n",
              "22  0.857430  0.219554 -0.205512  ...  0.995457  0.365741  1.001761  0.979299   \n",
              "23  0.811055  0.177505 -0.232263  ...  0.985747  0.346451  0.979299  1.001761   \n",
              "24  0.453550  0.427426  0.505831  ...  0.216956  0.225826  0.237191  0.209514   \n",
              "25  0.668629  0.474033  0.459606  ...  0.476658  0.361468  0.530340  0.439068   \n",
              "26  0.753724  0.434485  0.346843  ...  0.574985  0.369014  0.619433  0.544287   \n",
              "27  0.911758  0.431054  0.175634  ...  0.788810  0.360388  0.817759  0.748735   \n",
              "28  0.376406  0.701058  0.334607  ...  0.243958  0.233438  0.269967  0.209514   \n",
              "29  0.369310  0.439185  0.768648  ...  0.093657  0.219508  0.139202  0.079787   \n",
              "\n",
              "          24        25        26        27        28        29  \n",
              "0   0.119827  0.414191  0.527839  0.745524  0.164242  0.007078  \n",
              "1   0.077640  0.278319  0.301555  0.295836  0.105193  0.119415  \n",
              "2   0.150814  0.456577  0.564872  0.772599  0.189448  0.051108  \n",
              "3   0.123740  0.391098  0.513508  0.723288  0.143823  0.003744  \n",
              "4   0.806742  0.473300  0.435691  0.503939  0.395004  0.500195  \n",
              "5   0.566537  0.867333  0.817712  0.817009  0.511122  0.688593  \n",
              "6   0.449612  0.756297  0.885659  0.862839  0.410185  0.515836  \n",
              "7   0.453550  0.668629  0.753724  0.911758  0.376406  0.369310  \n",
              "8   0.427426  0.474033  0.434485  0.431054  0.701058  0.439185  \n",
              "9   0.505831  0.459606  0.346843  0.175634  0.334607  0.768648  \n",
              "10  0.142168  0.287609  0.381255  0.531997  0.094709  0.049647  \n",
              "11 -0.073787 -0.092602 -0.069078 -0.119848 -0.128440 -0.045735  \n",
              "12  0.130283  0.342521  0.419636  0.555874  0.110124  0.085583  \n",
              "13  0.125610  0.283755  0.385778  0.539114  0.074257  0.017570  \n",
              "14  0.315011 -0.055656 -0.058401 -0.102186 -0.107531  0.101659  \n",
              "15  0.227795  0.679975  0.640272  0.484059  0.278368  0.592013  \n",
              "16  0.168778  0.485711  0.663731  0.441248  0.198136  0.440103  \n",
              "17  0.215730  0.453686  0.550560  0.603510  0.143368  0.311201  \n",
              "18 -0.012684  0.060361  0.037184 -0.030467  0.390088  0.078217  \n",
              "19  0.170869  0.390846  0.380644  0.215583  0.111290  0.592369  \n",
              "20  0.216956  0.476658  0.574985  0.788810  0.243958  0.093657  \n",
              "21  0.225826  0.361468  0.369014  0.360388  0.233438  0.219508  \n",
              "22  0.237191  0.530340  0.619433  0.817759  0.269967  0.139202  \n",
              "23  0.209514  0.439068  0.544287  0.748735  0.209514  0.079787  \n",
              "24  1.001761  0.569187  0.519436  0.548655  0.494708  0.618712  \n",
              "25  0.569187  1.001761  0.893832  0.802491  0.615522  0.811882  \n",
              "26  0.519436  0.893832  1.001761  0.856940  0.533457  0.687720  \n",
              "27  0.548655  0.802491  0.856940  1.001761  0.503413  0.512014  \n",
              "28  0.494708  0.615522  0.533457  0.503413  1.001761  0.538795  \n",
              "29  0.618712  0.811882  0.687720  0.512014  0.538795  1.001761  \n",
              "\n",
              "[30 rows x 30 columns]"
            ],
            "text/html": [
              "\n",
              "  <div id=\"df-0ae1984f-1b17-4d4a-b081-28b4cc2e802a\">\n",
              "    <div class=\"colab-df-container\">\n",
              "      <div>\n",
              "<style scoped>\n",
              "    .dataframe tbody tr th:only-of-type {\n",
              "        vertical-align: middle;\n",
              "    }\n",
              "\n",
              "    .dataframe tbody tr th {\n",
              "        vertical-align: top;\n",
              "    }\n",
              "\n",
              "    .dataframe thead th {\n",
              "        text-align: right;\n",
              "    }\n",
              "</style>\n",
              "<table border=\"1\" class=\"dataframe\">\n",
              "  <thead>\n",
              "    <tr style=\"text-align: right;\">\n",
              "      <th></th>\n",
              "      <th>0</th>\n",
              "      <th>1</th>\n",
              "      <th>2</th>\n",
              "      <th>3</th>\n",
              "      <th>4</th>\n",
              "      <th>5</th>\n",
              "      <th>6</th>\n",
              "      <th>7</th>\n",
              "      <th>8</th>\n",
              "      <th>9</th>\n",
              "      <th>...</th>\n",
              "      <th>20</th>\n",
              "      <th>21</th>\n",
              "      <th>22</th>\n",
              "      <th>23</th>\n",
              "      <th>24</th>\n",
              "      <th>25</th>\n",
              "      <th>26</th>\n",
              "      <th>27</th>\n",
              "      <th>28</th>\n",
              "      <th>29</th>\n",
              "    </tr>\n",
              "  </thead>\n",
              "  <tbody>\n",
              "    <tr>\n",
              "      <th>0</th>\n",
              "      <td>1.001761</td>\n",
              "      <td>0.324352</td>\n",
              "      <td>0.999612</td>\n",
              "      <td>0.989095</td>\n",
              "      <td>0.170882</td>\n",
              "      <td>0.507015</td>\n",
              "      <td>0.677955</td>\n",
              "      <td>0.823977</td>\n",
              "      <td>0.148001</td>\n",
              "      <td>-0.312179</td>\n",
              "      <td>...</td>\n",
              "      <td>0.971246</td>\n",
              "      <td>0.297531</td>\n",
              "      <td>0.966836</td>\n",
              "      <td>0.942739</td>\n",
              "      <td>0.119827</td>\n",
              "      <td>0.414191</td>\n",
              "      <td>0.527839</td>\n",
              "      <td>0.745524</td>\n",
              "      <td>0.164242</td>\n",
              "      <td>0.007078</td>\n",
              "    </tr>\n",
              "    <tr>\n",
              "      <th>1</th>\n",
              "      <td>0.324352</td>\n",
              "      <td>1.001761</td>\n",
              "      <td>0.330113</td>\n",
              "      <td>0.321651</td>\n",
              "      <td>-0.023430</td>\n",
              "      <td>0.237119</td>\n",
              "      <td>0.302950</td>\n",
              "      <td>0.293981</td>\n",
              "      <td>0.071527</td>\n",
              "      <td>-0.076572</td>\n",
              "      <td>...</td>\n",
              "      <td>0.353194</td>\n",
              "      <td>0.913650</td>\n",
              "      <td>0.358670</td>\n",
              "      <td>0.344151</td>\n",
              "      <td>0.077640</td>\n",
              "      <td>0.278319</td>\n",
              "      <td>0.301555</td>\n",
              "      <td>0.295836</td>\n",
              "      <td>0.105193</td>\n",
              "      <td>0.119415</td>\n",
              "    </tr>\n",
              "    <tr>\n",
              "      <th>2</th>\n",
              "      <td>0.999612</td>\n",
              "      <td>0.330113</td>\n",
              "      <td>1.001761</td>\n",
              "      <td>0.988244</td>\n",
              "      <td>0.207643</td>\n",
              "      <td>0.557917</td>\n",
              "      <td>0.717396</td>\n",
              "      <td>0.852475</td>\n",
              "      <td>0.183349</td>\n",
              "      <td>-0.261937</td>\n",
              "      <td>...</td>\n",
              "      <td>0.971183</td>\n",
              "      <td>0.303572</td>\n",
              "      <td>0.972095</td>\n",
              "      <td>0.943207</td>\n",
              "      <td>0.150814</td>\n",
              "      <td>0.456577</td>\n",
              "      <td>0.564872</td>\n",
              "      <td>0.772599</td>\n",
              "      <td>0.189448</td>\n",
              "      <td>0.051108</td>\n",
              "    </tr>\n",
              "    <tr>\n",
              "      <th>3</th>\n",
              "      <td>0.989095</td>\n",
              "      <td>0.321651</td>\n",
              "      <td>0.988244</td>\n",
              "      <td>1.001761</td>\n",
              "      <td>0.177340</td>\n",
              "      <td>0.499379</td>\n",
              "      <td>0.687191</td>\n",
              "      <td>0.824718</td>\n",
              "      <td>0.151559</td>\n",
              "      <td>-0.283608</td>\n",
              "      <td>...</td>\n",
              "      <td>0.964441</td>\n",
              "      <td>0.287995</td>\n",
              "      <td>0.960808</td>\n",
              "      <td>0.960902</td>\n",
              "      <td>0.123740</td>\n",
              "      <td>0.391098</td>\n",
              "      <td>0.513508</td>\n",
              "      <td>0.723288</td>\n",
              "      <td>0.143823</td>\n",
              "      <td>0.003744</td>\n",
              "    </tr>\n",
              "    <tr>\n",
              "      <th>4</th>\n",
              "      <td>0.170882</td>\n",
              "      <td>-0.023430</td>\n",
              "      <td>0.207643</td>\n",
              "      <td>0.177340</td>\n",
              "      <td>1.001761</td>\n",
              "      <td>0.660284</td>\n",
              "      <td>0.522903</td>\n",
              "      <td>0.554670</td>\n",
              "      <td>0.558757</td>\n",
              "      <td>0.585822</td>\n",
              "      <td>...</td>\n",
              "      <td>0.213495</td>\n",
              "      <td>0.036135</td>\n",
              "      <td>0.239273</td>\n",
              "      <td>0.207082</td>\n",
              "      <td>0.806742</td>\n",
              "      <td>0.473300</td>\n",
              "      <td>0.435691</td>\n",
              "      <td>0.503939</td>\n",
              "      <td>0.395004</td>\n",
              "      <td>0.500195</td>\n",
              "    </tr>\n",
              "    <tr>\n",
              "      <th>5</th>\n",
              "      <td>0.507015</td>\n",
              "      <td>0.237119</td>\n",
              "      <td>0.557917</td>\n",
              "      <td>0.499379</td>\n",
              "      <td>0.660284</td>\n",
              "      <td>1.001761</td>\n",
              "      <td>0.884675</td>\n",
              "      <td>0.832598</td>\n",
              "      <td>0.603702</td>\n",
              "      <td>0.566364</td>\n",
              "      <td>...</td>\n",
              "      <td>0.536258</td>\n",
              "      <td>0.248570</td>\n",
              "      <td>0.591250</td>\n",
              "      <td>0.510501</td>\n",
              "      <td>0.566537</td>\n",
              "      <td>0.867333</td>\n",
              "      <td>0.817712</td>\n",
              "      <td>0.817009</td>\n",
              "      <td>0.511122</td>\n",
              "      <td>0.688593</td>\n",
              "    </tr>\n",
              "    <tr>\n",
              "      <th>6</th>\n",
              "      <td>0.677955</td>\n",
              "      <td>0.302950</td>\n",
              "      <td>0.717396</td>\n",
              "      <td>0.687191</td>\n",
              "      <td>0.522903</td>\n",
              "      <td>0.884675</td>\n",
              "      <td>1.001761</td>\n",
              "      <td>0.923013</td>\n",
              "      <td>0.501548</td>\n",
              "      <td>0.337376</td>\n",
              "      <td>...</td>\n",
              "      <td>0.689448</td>\n",
              "      <td>0.300407</td>\n",
              "      <td>0.730849</td>\n",
              "      <td>0.677177</td>\n",
              "      <td>0.449612</td>\n",
              "      <td>0.756297</td>\n",
              "      <td>0.885659</td>\n",
              "      <td>0.862839</td>\n",
              "      <td>0.410185</td>\n",
              "      <td>0.515836</td>\n",
              "    </tr>\n",
              "    <tr>\n",
              "      <th>7</th>\n",
              "      <td>0.823977</td>\n",
              "      <td>0.293981</td>\n",
              "      <td>0.852475</td>\n",
              "      <td>0.824718</td>\n",
              "      <td>0.554670</td>\n",
              "      <td>0.832598</td>\n",
              "      <td>0.923013</td>\n",
              "      <td>1.001761</td>\n",
              "      <td>0.463312</td>\n",
              "      <td>0.167211</td>\n",
              "      <td>...</td>\n",
              "      <td>0.831779</td>\n",
              "      <td>0.293267</td>\n",
              "      <td>0.857430</td>\n",
              "      <td>0.811055</td>\n",
              "      <td>0.453550</td>\n",
              "      <td>0.668629</td>\n",
              "      <td>0.753724</td>\n",
              "      <td>0.911758</td>\n",
              "      <td>0.376406</td>\n",
              "      <td>0.369310</td>\n",
              "    </tr>\n",
              "    <tr>\n",
              "      <th>8</th>\n",
              "      <td>0.148001</td>\n",
              "      <td>0.071527</td>\n",
              "      <td>0.183349</td>\n",
              "      <td>0.151559</td>\n",
              "      <td>0.558757</td>\n",
              "      <td>0.603702</td>\n",
              "      <td>0.501548</td>\n",
              "      <td>0.463312</td>\n",
              "      <td>1.001761</td>\n",
              "      <td>0.480766</td>\n",
              "      <td>...</td>\n",
              "      <td>0.186055</td>\n",
              "      <td>0.090810</td>\n",
              "      <td>0.219554</td>\n",
              "      <td>0.177505</td>\n",
              "      <td>0.427426</td>\n",
              "      <td>0.474033</td>\n",
              "      <td>0.434485</td>\n",
              "      <td>0.431054</td>\n",
              "      <td>0.701058</td>\n",
              "      <td>0.439185</td>\n",
              "    </tr>\n",
              "    <tr>\n",
              "      <th>9</th>\n",
              "      <td>-0.312179</td>\n",
              "      <td>-0.076572</td>\n",
              "      <td>-0.261937</td>\n",
              "      <td>-0.283608</td>\n",
              "      <td>0.585822</td>\n",
              "      <td>0.566364</td>\n",
              "      <td>0.337376</td>\n",
              "      <td>0.167211</td>\n",
              "      <td>0.480766</td>\n",
              "      <td>1.001761</td>\n",
              "      <td>...</td>\n",
              "      <td>-0.254138</td>\n",
              "      <td>-0.051359</td>\n",
              "      <td>-0.205512</td>\n",
              "      <td>-0.232263</td>\n",
              "      <td>0.505831</td>\n",
              "      <td>0.459606</td>\n",
              "      <td>0.346843</td>\n",
              "      <td>0.175634</td>\n",
              "      <td>0.334607</td>\n",
              "      <td>0.768648</td>\n",
              "    </tr>\n",
              "    <tr>\n",
              "      <th>10</th>\n",
              "      <td>0.680286</td>\n",
              "      <td>0.276354</td>\n",
              "      <td>0.692983</td>\n",
              "      <td>0.733852</td>\n",
              "      <td>0.301998</td>\n",
              "      <td>0.498349</td>\n",
              "      <td>0.633037</td>\n",
              "      <td>0.699279</td>\n",
              "      <td>0.303913</td>\n",
              "      <td>0.000111</td>\n",
              "      <td>...</td>\n",
              "      <td>0.716324</td>\n",
              "      <td>0.195142</td>\n",
              "      <td>0.720951</td>\n",
              "      <td>0.752872</td>\n",
              "      <td>0.142168</td>\n",
              "      <td>0.287609</td>\n",
              "      <td>0.381255</td>\n",
              "      <td>0.531997</td>\n",
              "      <td>0.094709</td>\n",
              "      <td>0.049647</td>\n",
              "    </tr>\n",
              "    <tr>\n",
              "      <th>11</th>\n",
              "      <td>-0.097489</td>\n",
              "      <td>0.387038</td>\n",
              "      <td>-0.086914</td>\n",
              "      <td>-0.066397</td>\n",
              "      <td>0.068527</td>\n",
              "      <td>0.046286</td>\n",
              "      <td>0.076353</td>\n",
              "      <td>0.021517</td>\n",
              "      <td>0.128278</td>\n",
              "      <td>0.164463</td>\n",
              "      <td>...</td>\n",
              "      <td>-0.111887</td>\n",
              "      <td>0.409723</td>\n",
              "      <td>-0.102422</td>\n",
              "      <td>-0.083341</td>\n",
              "      <td>-0.073787</td>\n",
              "      <td>-0.092602</td>\n",
              "      <td>-0.069078</td>\n",
              "      <td>-0.119848</td>\n",
              "      <td>-0.128440</td>\n",
              "      <td>-0.045735</td>\n",
              "    </tr>\n",
              "    <tr>\n",
              "      <th>12</th>\n",
              "      <td>0.675359</td>\n",
              "      <td>0.282169</td>\n",
              "      <td>0.694355</td>\n",
              "      <td>0.727908</td>\n",
              "      <td>0.296613</td>\n",
              "      <td>0.549872</td>\n",
              "      <td>0.661553</td>\n",
              "      <td>0.711901</td>\n",
              "      <td>0.314445</td>\n",
              "      <td>0.039900</td>\n",
              "      <td>...</td>\n",
              "      <td>0.698428</td>\n",
              "      <td>0.200724</td>\n",
              "      <td>0.722301</td>\n",
              "      <td>0.731999</td>\n",
              "      <td>0.130283</td>\n",
              "      <td>0.342521</td>\n",
              "      <td>0.419636</td>\n",
              "      <td>0.555874</td>\n",
              "      <td>0.110124</td>\n",
              "      <td>0.085583</td>\n",
              "    </tr>\n",
              "    <tr>\n",
              "      <th>13</th>\n",
              "      <td>0.737159</td>\n",
              "      <td>0.260302</td>\n",
              "      <td>0.746294</td>\n",
              "      <td>0.801495</td>\n",
              "      <td>0.246987</td>\n",
              "      <td>0.456455</td>\n",
              "      <td>0.618514</td>\n",
              "      <td>0.691514</td>\n",
              "      <td>0.224365</td>\n",
              "      <td>-0.090329</td>\n",
              "      <td>...</td>\n",
              "      <td>0.758707</td>\n",
              "      <td>0.196843</td>\n",
              "      <td>0.762553</td>\n",
              "      <td>0.812836</td>\n",
              "      <td>0.125610</td>\n",
              "      <td>0.283755</td>\n",
              "      <td>0.385778</td>\n",
              "      <td>0.539114</td>\n",
              "      <td>0.074257</td>\n",
              "      <td>0.017570</td>\n",
              "    </tr>\n",
              "    <tr>\n",
              "      <th>14</th>\n",
              "      <td>-0.222992</td>\n",
              "      <td>0.006625</td>\n",
              "      <td>-0.203051</td>\n",
              "      <td>-0.167070</td>\n",
              "      <td>0.332961</td>\n",
              "      <td>0.135537</td>\n",
              "      <td>0.098737</td>\n",
              "      <td>0.027702</td>\n",
              "      <td>0.187651</td>\n",
              "      <td>0.402672</td>\n",
              "      <td>...</td>\n",
              "      <td>-0.231097</td>\n",
              "      <td>-0.074875</td>\n",
              "      <td>-0.217686</td>\n",
              "      <td>-0.182516</td>\n",
              "      <td>0.315011</td>\n",
              "      <td>-0.055656</td>\n",
              "      <td>-0.058401</td>\n",
              "      <td>-0.102186</td>\n",
              "      <td>-0.107531</td>\n",
              "      <td>0.101659</td>\n",
              "    </tr>\n",
              "    <tr>\n",
              "      <th>15</th>\n",
              "      <td>0.206363</td>\n",
              "      <td>0.192313</td>\n",
              "      <td>0.251185</td>\n",
              "      <td>0.212957</td>\n",
              "      <td>0.319505</td>\n",
              "      <td>0.740022</td>\n",
              "      <td>0.671459</td>\n",
              "      <td>0.491288</td>\n",
              "      <td>0.422402</td>\n",
              "      <td>0.560822</td>\n",
              "      <td>...</td>\n",
              "      <td>0.204967</td>\n",
              "      <td>0.143254</td>\n",
              "      <td>0.260974</td>\n",
              "      <td>0.199722</td>\n",
              "      <td>0.227795</td>\n",
              "      <td>0.679975</td>\n",
              "      <td>0.640272</td>\n",
              "      <td>0.484059</td>\n",
              "      <td>0.278368</td>\n",
              "      <td>0.592013</td>\n",
              "    </tr>\n",
              "    <tr>\n",
              "      <th>16</th>\n",
              "      <td>0.194546</td>\n",
              "      <td>0.143545</td>\n",
              "      <td>0.228484</td>\n",
              "      <td>0.208026</td>\n",
              "      <td>0.248833</td>\n",
              "      <td>0.571521</td>\n",
              "      <td>0.692487</td>\n",
              "      <td>0.439940</td>\n",
              "      <td>0.343230</td>\n",
              "      <td>0.447417</td>\n",
              "      <td>...</td>\n",
              "      <td>0.187233</td>\n",
              "      <td>0.100417</td>\n",
              "      <td>0.227080</td>\n",
              "      <td>0.188684</td>\n",
              "      <td>0.168778</td>\n",
              "      <td>0.485711</td>\n",
              "      <td>0.663731</td>\n",
              "      <td>0.441248</td>\n",
              "      <td>0.198136</td>\n",
              "      <td>0.440103</td>\n",
              "    </tr>\n",
              "    <tr>\n",
              "      <th>17</th>\n",
              "      <td>0.376831</td>\n",
              "      <td>0.164139</td>\n",
              "      <td>0.407934</td>\n",
              "      <td>0.372976</td>\n",
              "      <td>0.381346</td>\n",
              "      <td>0.643393</td>\n",
              "      <td>0.684463</td>\n",
              "      <td>0.616718</td>\n",
              "      <td>0.393990</td>\n",
              "      <td>0.341799</td>\n",
              "      <td>...</td>\n",
              "      <td>0.358757</td>\n",
              "      <td>0.086894</td>\n",
              "      <td>0.395695</td>\n",
              "      <td>0.342874</td>\n",
              "      <td>0.215730</td>\n",
              "      <td>0.453686</td>\n",
              "      <td>0.550560</td>\n",
              "      <td>0.603510</td>\n",
              "      <td>0.143368</td>\n",
              "      <td>0.311201</td>\n",
              "    </tr>\n",
              "    <tr>\n",
              "      <th>18</th>\n",
              "      <td>-0.104505</td>\n",
              "      <td>0.009143</td>\n",
              "      <td>-0.081773</td>\n",
              "      <td>-0.072624</td>\n",
              "      <td>0.201128</td>\n",
              "      <td>0.230381</td>\n",
              "      <td>0.178323</td>\n",
              "      <td>0.095519</td>\n",
              "      <td>0.449927</td>\n",
              "      <td>0.345615</td>\n",
              "      <td>...</td>\n",
              "      <td>-0.128346</td>\n",
              "      <td>-0.077610</td>\n",
              "      <td>-0.103936</td>\n",
              "      <td>-0.110537</td>\n",
              "      <td>-0.012684</td>\n",
              "      <td>0.060361</td>\n",
              "      <td>0.037184</td>\n",
              "      <td>-0.030467</td>\n",
              "      <td>0.390088</td>\n",
              "      <td>0.078217</td>\n",
              "    </tr>\n",
              "    <tr>\n",
              "      <th>19</th>\n",
              "      <td>-0.042716</td>\n",
              "      <td>0.054553</td>\n",
              "      <td>-0.005533</td>\n",
              "      <td>-0.019922</td>\n",
              "      <td>0.284106</td>\n",
              "      <td>0.508211</td>\n",
              "      <td>0.450092</td>\n",
              "      <td>0.258037</td>\n",
              "      <td>0.332370</td>\n",
              "      <td>0.689343</td>\n",
              "      <td>...</td>\n",
              "      <td>-0.037554</td>\n",
              "      <td>-0.003201</td>\n",
              "      <td>-0.001002</td>\n",
              "      <td>-0.022776</td>\n",
              "      <td>0.170869</td>\n",
              "      <td>0.390846</td>\n",
              "      <td>0.380644</td>\n",
              "      <td>0.215583</td>\n",
              "      <td>0.111290</td>\n",
              "      <td>0.592369</td>\n",
              "    </tr>\n",
              "    <tr>\n",
              "      <th>20</th>\n",
              "      <td>0.971246</td>\n",
              "      <td>0.353194</td>\n",
              "      <td>0.971183</td>\n",
              "      <td>0.964441</td>\n",
              "      <td>0.213495</td>\n",
              "      <td>0.536258</td>\n",
              "      <td>0.689448</td>\n",
              "      <td>0.831779</td>\n",
              "      <td>0.186055</td>\n",
              "      <td>-0.254138</td>\n",
              "      <td>...</td>\n",
              "      <td>1.001761</td>\n",
              "      <td>0.360554</td>\n",
              "      <td>0.995457</td>\n",
              "      <td>0.985747</td>\n",
              "      <td>0.216956</td>\n",
              "      <td>0.476658</td>\n",
              "      <td>0.574985</td>\n",
              "      <td>0.788810</td>\n",
              "      <td>0.243958</td>\n",
              "      <td>0.093657</td>\n",
              "    </tr>\n",
              "    <tr>\n",
              "      <th>21</th>\n",
              "      <td>0.297531</td>\n",
              "      <td>0.913650</td>\n",
              "      <td>0.303572</td>\n",
              "      <td>0.287995</td>\n",
              "      <td>0.036135</td>\n",
              "      <td>0.248570</td>\n",
              "      <td>0.300407</td>\n",
              "      <td>0.293267</td>\n",
              "      <td>0.090810</td>\n",
              "      <td>-0.051359</td>\n",
              "      <td>...</td>\n",
              "      <td>0.360554</td>\n",
              "      <td>1.001761</td>\n",
              "      <td>0.365741</td>\n",
              "      <td>0.346451</td>\n",
              "      <td>0.225826</td>\n",
              "      <td>0.361468</td>\n",
              "      <td>0.369014</td>\n",
              "      <td>0.360388</td>\n",
              "      <td>0.233438</td>\n",
              "      <td>0.219508</td>\n",
              "    </tr>\n",
              "    <tr>\n",
              "      <th>22</th>\n",
              "      <td>0.966836</td>\n",
              "      <td>0.358670</td>\n",
              "      <td>0.972095</td>\n",
              "      <td>0.960808</td>\n",
              "      <td>0.239273</td>\n",
              "      <td>0.591250</td>\n",
              "      <td>0.730849</td>\n",
              "      <td>0.857430</td>\n",
              "      <td>0.219554</td>\n",
              "      <td>-0.205512</td>\n",
              "      <td>...</td>\n",
              "      <td>0.995457</td>\n",
              "      <td>0.365741</td>\n",
              "      <td>1.001761</td>\n",
              "      <td>0.979299</td>\n",
              "      <td>0.237191</td>\n",
              "      <td>0.530340</td>\n",
              "      <td>0.619433</td>\n",
              "      <td>0.817759</td>\n",
              "      <td>0.269967</td>\n",
              "      <td>0.139202</td>\n",
              "    </tr>\n",
              "    <tr>\n",
              "      <th>23</th>\n",
              "      <td>0.942739</td>\n",
              "      <td>0.344151</td>\n",
              "      <td>0.943207</td>\n",
              "      <td>0.960902</td>\n",
              "      <td>0.207082</td>\n",
              "      <td>0.510501</td>\n",
              "      <td>0.677177</td>\n",
              "      <td>0.811055</td>\n",
              "      <td>0.177505</td>\n",
              "      <td>-0.232263</td>\n",
              "      <td>...</td>\n",
              "      <td>0.985747</td>\n",
              "      <td>0.346451</td>\n",
              "      <td>0.979299</td>\n",
              "      <td>1.001761</td>\n",
              "      <td>0.209514</td>\n",
              "      <td>0.439068</td>\n",
              "      <td>0.544287</td>\n",
              "      <td>0.748735</td>\n",
              "      <td>0.209514</td>\n",
              "      <td>0.079787</td>\n",
              "    </tr>\n",
              "    <tr>\n",
              "      <th>24</th>\n",
              "      <td>0.119827</td>\n",
              "      <td>0.077640</td>\n",
              "      <td>0.150814</td>\n",
              "      <td>0.123740</td>\n",
              "      <td>0.806742</td>\n",
              "      <td>0.566537</td>\n",
              "      <td>0.449612</td>\n",
              "      <td>0.453550</td>\n",
              "      <td>0.427426</td>\n",
              "      <td>0.505831</td>\n",
              "      <td>...</td>\n",
              "      <td>0.216956</td>\n",
              "      <td>0.225826</td>\n",
              "      <td>0.237191</td>\n",
              "      <td>0.209514</td>\n",
              "      <td>1.001761</td>\n",
              "      <td>0.569187</td>\n",
              "      <td>0.519436</td>\n",
              "      <td>0.548655</td>\n",
              "      <td>0.494708</td>\n",
              "      <td>0.618712</td>\n",
              "    </tr>\n",
              "    <tr>\n",
              "      <th>25</th>\n",
              "      <td>0.414191</td>\n",
              "      <td>0.278319</td>\n",
              "      <td>0.456577</td>\n",
              "      <td>0.391098</td>\n",
              "      <td>0.473300</td>\n",
              "      <td>0.867333</td>\n",
              "      <td>0.756297</td>\n",
              "      <td>0.668629</td>\n",
              "      <td>0.474033</td>\n",
              "      <td>0.459606</td>\n",
              "      <td>...</td>\n",
              "      <td>0.476658</td>\n",
              "      <td>0.361468</td>\n",
              "      <td>0.530340</td>\n",
              "      <td>0.439068</td>\n",
              "      <td>0.569187</td>\n",
              "      <td>1.001761</td>\n",
              "      <td>0.893832</td>\n",
              "      <td>0.802491</td>\n",
              "      <td>0.615522</td>\n",
              "      <td>0.811882</td>\n",
              "    </tr>\n",
              "    <tr>\n",
              "      <th>26</th>\n",
              "      <td>0.527839</td>\n",
              "      <td>0.301555</td>\n",
              "      <td>0.564872</td>\n",
              "      <td>0.513508</td>\n",
              "      <td>0.435691</td>\n",
              "      <td>0.817712</td>\n",
              "      <td>0.885659</td>\n",
              "      <td>0.753724</td>\n",
              "      <td>0.434485</td>\n",
              "      <td>0.346843</td>\n",
              "      <td>...</td>\n",
              "      <td>0.574985</td>\n",
              "      <td>0.369014</td>\n",
              "      <td>0.619433</td>\n",
              "      <td>0.544287</td>\n",
              "      <td>0.519436</td>\n",
              "      <td>0.893832</td>\n",
              "      <td>1.001761</td>\n",
              "      <td>0.856940</td>\n",
              "      <td>0.533457</td>\n",
              "      <td>0.687720</td>\n",
              "    </tr>\n",
              "    <tr>\n",
              "      <th>27</th>\n",
              "      <td>0.745524</td>\n",
              "      <td>0.295836</td>\n",
              "      <td>0.772599</td>\n",
              "      <td>0.723288</td>\n",
              "      <td>0.503939</td>\n",
              "      <td>0.817009</td>\n",
              "      <td>0.862839</td>\n",
              "      <td>0.911758</td>\n",
              "      <td>0.431054</td>\n",
              "      <td>0.175634</td>\n",
              "      <td>...</td>\n",
              "      <td>0.788810</td>\n",
              "      <td>0.360388</td>\n",
              "      <td>0.817759</td>\n",
              "      <td>0.748735</td>\n",
              "      <td>0.548655</td>\n",
              "      <td>0.802491</td>\n",
              "      <td>0.856940</td>\n",
              "      <td>1.001761</td>\n",
              "      <td>0.503413</td>\n",
              "      <td>0.512014</td>\n",
              "    </tr>\n",
              "    <tr>\n",
              "      <th>28</th>\n",
              "      <td>0.164242</td>\n",
              "      <td>0.105193</td>\n",
              "      <td>0.189448</td>\n",
              "      <td>0.143823</td>\n",
              "      <td>0.395004</td>\n",
              "      <td>0.511122</td>\n",
              "      <td>0.410185</td>\n",
              "      <td>0.376406</td>\n",
              "      <td>0.701058</td>\n",
              "      <td>0.334607</td>\n",
              "      <td>...</td>\n",
              "      <td>0.243958</td>\n",
              "      <td>0.233438</td>\n",
              "      <td>0.269967</td>\n",
              "      <td>0.209514</td>\n",
              "      <td>0.494708</td>\n",
              "      <td>0.615522</td>\n",
              "      <td>0.533457</td>\n",
              "      <td>0.503413</td>\n",
              "      <td>1.001761</td>\n",
              "      <td>0.538795</td>\n",
              "    </tr>\n",
              "    <tr>\n",
              "      <th>29</th>\n",
              "      <td>0.007078</td>\n",
              "      <td>0.119415</td>\n",
              "      <td>0.051108</td>\n",
              "      <td>0.003744</td>\n",
              "      <td>0.500195</td>\n",
              "      <td>0.688593</td>\n",
              "      <td>0.515836</td>\n",
              "      <td>0.369310</td>\n",
              "      <td>0.439185</td>\n",
              "      <td>0.768648</td>\n",
              "      <td>...</td>\n",
              "      <td>0.093657</td>\n",
              "      <td>0.219508</td>\n",
              "      <td>0.139202</td>\n",
              "      <td>0.079787</td>\n",
              "      <td>0.618712</td>\n",
              "      <td>0.811882</td>\n",
              "      <td>0.687720</td>\n",
              "      <td>0.512014</td>\n",
              "      <td>0.538795</td>\n",
              "      <td>1.001761</td>\n",
              "    </tr>\n",
              "  </tbody>\n",
              "</table>\n",
              "<p>30 rows × 30 columns</p>\n",
              "</div>\n",
              "      <button class=\"colab-df-convert\" onclick=\"convertToInteractive('df-0ae1984f-1b17-4d4a-b081-28b4cc2e802a')\"\n",
              "              title=\"Convert this dataframe to an interactive table.\"\n",
              "              style=\"display:none;\">\n",
              "        \n",
              "  <svg xmlns=\"http://www.w3.org/2000/svg\" height=\"24px\"viewBox=\"0 0 24 24\"\n",
              "       width=\"24px\">\n",
              "    <path d=\"M0 0h24v24H0V0z\" fill=\"none\"/>\n",
              "    <path d=\"M18.56 5.44l.94 2.06.94-2.06 2.06-.94-2.06-.94-.94-2.06-.94 2.06-2.06.94zm-11 1L8.5 8.5l.94-2.06 2.06-.94-2.06-.94L8.5 2.5l-.94 2.06-2.06.94zm10 10l.94 2.06.94-2.06 2.06-.94-2.06-.94-.94-2.06-.94 2.06-2.06.94z\"/><path d=\"M17.41 7.96l-1.37-1.37c-.4-.4-.92-.59-1.43-.59-.52 0-1.04.2-1.43.59L10.3 9.45l-7.72 7.72c-.78.78-.78 2.05 0 2.83L4 21.41c.39.39.9.59 1.41.59.51 0 1.02-.2 1.41-.59l7.78-7.78 2.81-2.81c.8-.78.8-2.07 0-2.86zM5.41 20L4 18.59l7.72-7.72 1.47 1.35L5.41 20z\"/>\n",
              "  </svg>\n",
              "      </button>\n",
              "      \n",
              "  <style>\n",
              "    .colab-df-container {\n",
              "      display:flex;\n",
              "      flex-wrap:wrap;\n",
              "      gap: 12px;\n",
              "    }\n",
              "\n",
              "    .colab-df-convert {\n",
              "      background-color: #E8F0FE;\n",
              "      border: none;\n",
              "      border-radius: 50%;\n",
              "      cursor: pointer;\n",
              "      display: none;\n",
              "      fill: #1967D2;\n",
              "      height: 32px;\n",
              "      padding: 0 0 0 0;\n",
              "      width: 32px;\n",
              "    }\n",
              "\n",
              "    .colab-df-convert:hover {\n",
              "      background-color: #E2EBFA;\n",
              "      box-shadow: 0px 1px 2px rgba(60, 64, 67, 0.3), 0px 1px 3px 1px rgba(60, 64, 67, 0.15);\n",
              "      fill: #174EA6;\n",
              "    }\n",
              "\n",
              "    [theme=dark] .colab-df-convert {\n",
              "      background-color: #3B4455;\n",
              "      fill: #D2E3FC;\n",
              "    }\n",
              "\n",
              "    [theme=dark] .colab-df-convert:hover {\n",
              "      background-color: #434B5C;\n",
              "      box-shadow: 0px 1px 3px 1px rgba(0, 0, 0, 0.15);\n",
              "      filter: drop-shadow(0px 1px 2px rgba(0, 0, 0, 0.3));\n",
              "      fill: #FFFFFF;\n",
              "    }\n",
              "  </style>\n",
              "\n",
              "      <script>\n",
              "        const buttonEl =\n",
              "          document.querySelector('#df-0ae1984f-1b17-4d4a-b081-28b4cc2e802a button.colab-df-convert');\n",
              "        buttonEl.style.display =\n",
              "          google.colab.kernel.accessAllowed ? 'block' : 'none';\n",
              "\n",
              "        async function convertToInteractive(key) {\n",
              "          const element = document.querySelector('#df-0ae1984f-1b17-4d4a-b081-28b4cc2e802a');\n",
              "          const dataTable =\n",
              "            await google.colab.kernel.invokeFunction('convertToInteractive',\n",
              "                                                     [key], {});\n",
              "          if (!dataTable) return;\n",
              "\n",
              "          const docLinkHtml = 'Like what you see? Visit the ' +\n",
              "            '<a target=\"_blank\" href=https://colab.research.google.com/notebooks/data_table.ipynb>data table notebook</a>'\n",
              "            + ' to learn more about interactive tables.';\n",
              "          element.innerHTML = '';\n",
              "          dataTable['output_type'] = 'display_data';\n",
              "          await google.colab.output.renderOutput(dataTable, element);\n",
              "          const docLink = document.createElement('div');\n",
              "          docLink.innerHTML = docLinkHtml;\n",
              "          element.appendChild(docLink);\n",
              "        }\n",
              "      </script>\n",
              "    </div>\n",
              "  </div>\n",
              "  "
            ]
          },
          "metadata": {},
          "execution_count": 250
        }
      ]
    },
    {
      "cell_type": "code",
      "source": [
        "sns.heatmap(cov_cancer)"
      ],
      "metadata": {
        "colab": {
          "base_uri": "https://localhost:8080/",
          "height": 287
        },
        "id": "WQ8FB87meqDH",
        "outputId": "924426dd-c02e-4751-c73d-3c95ec05a2f5"
      },
      "execution_count": null,
      "outputs": [
        {
          "output_type": "execute_result",
          "data": {
            "text/plain": [
              "<Axes: >"
            ]
          },
          "metadata": {},
          "execution_count": 251
        },
        {
          "output_type": "display_data",
          "data": {
            "text/plain": [
              "<Figure size 432x288 with 2 Axes>"
            ],
            "image/png": "[encoded data removed]"
          },
          "metadata": {
            "needs_background": "light"
          }
        }
      ]
    },
    {
      "cell_type": "code",
      "source": [
        "eigen_values = pca.explained_variance_\n",
        "sns.lineplot(y=eigen_values, x=range(eigen_values.shape[0]));"
      ],
      "metadata": {
        "colab": {
          "base_uri": "https://localhost:8080/",
          "height": 265
        },
        "id": "vU2ZeEOResxB",
        "outputId": "12424bc4-082d-4f73-b96d-73c5189212a1"
      },
      "execution_count": null,
      "outputs": [
        {
          "output_type": "display_data",
          "data": {
            "text/plain": [
              "<Figure size 432x288 with 1 Axes>"
            ],
            "image/png": "[encoded data removed]"
          },
          "metadata": {
            "needs_background": "light"
          }
        }
      ]
    },
    {
      "cell_type": "markdown",
      "source": [
        "##LDA\n"
      ],
      "metadata": {
        "id": "0hEMJMijyToA"
      }
    },
    {
      "cell_type": "markdown",
      "source": [
        "###LDA Iris"
      ],
      "metadata": {
        "id": "Jptss5FPyXLe"
      }
    },
    {
      "cell_type": "code",
      "source": [
        "iris = datasets.load_iris()\n",
        "X = iris.data\n",
        "y = iris.target\n",
        "target_names = iris.target_names"
      ],
      "metadata": {
        "id": "iE54xksJymY0"
      },
      "execution_count": null,
      "outputs": []
    },
    {
      "cell_type": "code",
      "source": [
        "lda = LinearDiscriminantAnalysis(n_components=2)\n",
        "lda.fit(X, y)\n",
        "X_lda = lda.transform(X)\n",
        "\n",
        "print(lda.explained_variance_ratio_)"
      ],
      "metadata": {
        "colab": {
          "base_uri": "https://localhost:8080/"
        },
        "id": "fHAytLRjybzn",
        "outputId": "816393e1-cda3-4c7a-8f63-504dc2a198f4"
      },
      "execution_count": null,
      "outputs": [
        {
          "output_type": "stream",
          "name": "stdout",
          "text": [
            "[0.9912126 0.0087874]\n"
          ]
        }
      ]
    },
    {
      "cell_type": "code",
      "source": [
        "pca = PCA(n_components=2)\n",
        "X_pca = pca.fit(X).transform(X)\n",
        "\n",
        "print(\n",
        "    \"explained variance ratio (first two components): %s\"\n",
        "    % str(pca.explained_variance_ratio_)\n",
        ")\n",
        "\n",
        "plt.figure()\n",
        "colors = [\"navy\", \"turquoise\", \"darkorange\"]\n",
        "lw = 2\n",
        "\n",
        "for color, i, target_name in zip(colors, [0, 1, 2], target_names):\n",
        "    plt.scatter(\n",
        "        X_pca[y == i, 0], X_pca[y == i, 1], color=color, alpha=0.8, lw=lw, label=target_name\n",
        "    )\n",
        "plt.legend(loc=\"best\", shadow=False, scatterpoints=1)\n",
        "plt.title(\"PCA of IRIS dataset\")\n",
        "\n",
        "plt.figure()\n",
        "for color, i, target_name in zip(colors, [0, 1, 2], target_names):\n",
        "    plt.scatter(\n",
        "        X_lda[y == i, 0], X_lda[y == i, 1], alpha=0.8, color=color, label=target_name\n",
        "    )\n",
        "plt.legend(loc=\"best\", shadow=False, scatterpoints=1)\n",
        "plt.title(\"LDA of IRIS dataset\")\n",
        "\n",
        "plt.show()"
      ],
      "metadata": {
        "colab": {
          "base_uri": "https://localhost:8080/",
          "height": 563
        },
        "id": "N1EV8MLmAAJ0",
        "outputId": "d0bbc9e5-6c8b-4be6-fc1b-982955995567"
      },
      "execution_count": null,
      "outputs": [
        {
          "output_type": "stream",
          "name": "stdout",
          "text": [
            "explained variance ratio (first two components): [0.92461872 0.05306648]\n"
          ]
        },
        {
          "output_type": "display_data",
          "data": {
            "text/plain": [
              "<Figure size 432x288 with 1 Axes>"
            ],
            "image/png": "[encoded data removed]"
          },
          "metadata": {
            "needs_background": "light"
          }
        },
        {
          "output_type": "display_data",
          "data": {
            "text/plain": [
              "<Figure size 432x288 with 1 Axes>"
            ],
            "image/png": "[encoded data removed]"
          },
          "metadata": {
            "needs_background": "light"
          }
        }
      ]
    },
    {
      "cell_type": "markdown",
      "source": [
        "###LDA Cancer"
      ],
      "metadata": {
        "id": "zo--Vm5J8wwQ"
      }
    },
    {
      "cell_type": "code",
      "source": [
        "raw_data = breast_cancer.data\n",
        "target = breast_cancer.target\n",
        "normalized_data = StandardScaler().fit_transform(raw_data)\n",
        "target_names_cancer = breast_cancer.target_names"
      ],
      "metadata": {
        "id": "4uLyh_tN8zl0"
      },
      "execution_count": null,
      "outputs": []
    },
    {
      "cell_type": "code",
      "source": [
        "lda = LinearDiscriminantAnalysis()\n",
        "lda.fit(normalized_data, target)\n",
        "X_lda2 = lda.transform(normalized_data)\n",
        "\n",
        "print(lda.explained_variance_ratio_)"
      ],
      "metadata": {
        "colab": {
          "base_uri": "https://localhost:8080/"
        },
        "id": "NKraQl_f9Js7",
        "outputId": "7ac39319-aaf1-4f66-ce06-b3576ac42fd1"
      },
      "execution_count": null,
      "outputs": [
        {
          "output_type": "stream",
          "name": "stdout",
          "text": [
            "[1.]\n"
          ]
        }
      ]
    },
    {
      "cell_type": "code",
      "source": [
        "pca = PCA(n_components=2)\n",
        "X_pca2 = pca.fit(normalized_data).transform(normalized_data)\n",
        "\n",
        "print(\n",
        "    \"explained variance ratio (first two components): %s\"\n",
        "    % str(pca.explained_variance_ratio_)\n",
        ")\n",
        "\n",
        "\n",
        "plt.figure()\n",
        "colors = [\"red\", \"navy\"]\n",
        "lw = 2\n",
        "\n",
        "for color, i, target_names_cancer in zip(colors, [0, 1], target_names_cancer):\n",
        "    plt.scatter(\n",
        "        X_pca2[target == i, 0], X_pca2[target == i, 1], color=color, alpha=0.8, lw=lw, label=target_names_cancer\n",
        "    )\n",
        "plt.legend(loc=\"best\", shadow=False, scatterpoints=1)\n",
        "plt.title(\"PCA of CANCER dataset\")\n",
        "\n",
        "\n",
        "plt.show()"
      ],
      "metadata": {
        "colab": {
          "base_uri": "https://localhost:8080/",
          "height": 299
        },
        "id": "CiwibMxUBN2Y",
        "outputId": "d327d847-9ec9-4586-a8c0-af1dc74907d5"
      },
      "execution_count": null,
      "outputs": [
        {
          "output_type": "stream",
          "name": "stdout",
          "text": [
            "explained variance ratio (first two components): [0.44272026 0.18971182]\n"
          ]
        },
        {
          "output_type": "display_data",
          "data": {
            "text/plain": [
              "<Figure size 432x288 with 1 Axes>"
            ],
            "image/png": "[encoded data removed]"
          },
          "metadata": {
            "needs_background": "light"
          }
        }
      ]
    },
    {
      "cell_type": "code",
      "source": [
        "### Gráfico do LDA do dataset de cancer não foi plotado pelo número de componentes ser igual 1. Não foi possível rodar para n_components = 2 ###"
      ],
      "metadata": {
        "id": "AWwnAWf-YnuH"
      },
      "execution_count": null,
      "outputs": []
    }
  ]
}